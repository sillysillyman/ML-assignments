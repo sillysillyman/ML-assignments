{
  "nbformat": 4,
  "nbformat_minor": 0,
  "metadata": {
    "kernelspec": {
      "display_name": "Python 3",
      "language": "python",
      "name": "python3"
    },
    "language_info": {
      "codemirror_mode": {
        "name": "ipython",
        "version": 3
      },
      "file_extension": ".py",
      "mimetype": "text/x-python",
      "name": "python",
      "nbconvert_exporter": "python",
      "pygments_lexer": "ipython3",
      "version": "3.6.9"
    },
    "colab": {
      "name": "hw1.ipynb의 사본",
      "provenance": [],
      "collapsed_sections": [],
      "toc_visible": true
    }
  },
  "cells": [
    {
      "cell_type": "markdown",
      "metadata": {
        "id": "igbuBG-Ztcgv",
        "colab_type": "text"
      },
      "source": [
        "# [CS376] Homework 1. Linear Regression\n",
        "\n",
        "- TA : Seokin Seo (siseo@ai.kaist.ac.kr), Youngsoo Jang (ysjang@ai.kaist.ac.kr)\n",
        "- Due Date : 27th Nov, 23:59 (**Any late submissions will not be accepted.**)\n",
        "- Office Hour : E3-1 2443, Tues 18:30~21:30 \n",
        "- Skeleton codes for this homework are based on tutorial code for textbook written by Marc Deisenroth. \n",
        "- If you're not familar with Google colab or Jupyter notebook, contact TAs in e-mail or come TA office hour on tuesday to get our help.\n",
        "\n",
        "\n"
      ]
    },
    {
      "cell_type": "markdown",
      "metadata": {
        "id": "CQm14EiholMA",
        "colab_type": "text"
      },
      "source": [
        "## README\n",
        "\n",
        "This notebook file is *incomplete* at the first time, so you should implement some code cells for this homework.\n",
        "\n",
        "In addition, you should write answers for given questions.\n",
        "\n",
        "In HW1, you should submit following file:\n",
        "- `hw1.ipynb`: a **completed** version of this IPython notebook. \n",
        "  - You should **implement total 17 python code cells (which are marked as TODO)** and **write total 8 answers** for given questions. \n",
        "  - Every code cell should be working and leave outputs when you submit HW.\n",
        "  - **Do NOT clear** your outputs (ex. plots, outputs, etc.).  \n",
        "\n",
        "After finishing the homework, please submit this file to **Homework 1 section in KLMS**.\n",
        "\n",
        "\n",
        "\n",
        "### Instructions\n",
        "- First of all, you should copy the original Colab notebook into your Google drive.\n",
        "  - Sign in Google.\n",
        "  - Click `File` in the left top on menu and select `Save a copy in Drive..`.\n",
        "- Then you can edit your copied notebook in Google Colab!\n",
        "  - Fill in the `TODO` marked part to run appropriately. \n",
        "  - Each code cell will be executed when you click the play button left side of the cell (or press `Ctrl+Enter`).\n",
        "- Download your copied notebook file (`.ipynb` file) to your local and rename it as `hw1.ipynb`.\n",
        "- Upload the file (`hw1.ipynb`) to KLMS Homework 1 section.\n",
        "\n",
        "**[IMPORTANT]**\n",
        "\n",
        "Please submit the notebook file (without compressing) with the name like below:\n",
        "\n",
        "HW1_StudentID.ipynb\n",
        "\n",
        "ex) HW1_20191234.ipynb\n",
        "\n",
        "\n",
        "### Q&A Policies\n",
        "- If you think your question is important for every student, make your question about HW as a comment on the code cell block in [the original notebook](https://colab.research.google.com/drive/1Ye7fnZ3PZl2REidUhWT0aNWGDYzEPVJb), not your copy.\n",
        "- If you want to ask some questions about your code, contact TAs in e-mail or come TA office hour.\n",
        "\n",
        "\n",
        "\n",
        "---\n",
        "\n",
        "\n"
      ]
    },
    {
      "cell_type": "code",
      "metadata": {
        "id": "QBknIhIvvhyF",
        "colab_type": "code",
        "outputId": "26f872e4-af5d-4d48-fde4-1d2474a46be0",
        "colab": {
          "base_uri": "https://localhost:8080/",
          "height": 545
        }
      },
      "source": [
        "from google.colab import drive\n",
        "drive.mount('/content/drive')"
      ],
      "execution_count": 0,
      "outputs": [
        {
          "output_type": "error",
          "ename": "KeyboardInterrupt",
          "evalue": "ignored",
          "traceback": [
            "\u001b[0;31m---------------------------------------------------------------------------\u001b[0m",
            "\u001b[0;31mKeyboardInterrupt\u001b[0m                         Traceback (most recent call last)",
            "\u001b[0;32m/usr/local/lib/python3.6/dist-packages/ipykernel/kernelbase.py\u001b[0m in \u001b[0;36m_input_request\u001b[0;34m(self, prompt, ident, parent, password)\u001b[0m\n\u001b[1;32m    729\u001b[0m             \u001b[0;32mtry\u001b[0m\u001b[0;34m:\u001b[0m\u001b[0;34m\u001b[0m\u001b[0;34m\u001b[0m\u001b[0m\n\u001b[0;32m--> 730\u001b[0;31m                 \u001b[0mident\u001b[0m\u001b[0;34m,\u001b[0m \u001b[0mreply\u001b[0m \u001b[0;34m=\u001b[0m \u001b[0mself\u001b[0m\u001b[0;34m.\u001b[0m\u001b[0msession\u001b[0m\u001b[0;34m.\u001b[0m\u001b[0mrecv\u001b[0m\u001b[0;34m(\u001b[0m\u001b[0mself\u001b[0m\u001b[0;34m.\u001b[0m\u001b[0mstdin_socket\u001b[0m\u001b[0;34m,\u001b[0m \u001b[0;36m0\u001b[0m\u001b[0;34m)\u001b[0m\u001b[0;34m\u001b[0m\u001b[0;34m\u001b[0m\u001b[0m\n\u001b[0m\u001b[1;32m    731\u001b[0m             \u001b[0;32mexcept\u001b[0m \u001b[0mException\u001b[0m\u001b[0;34m:\u001b[0m\u001b[0;34m\u001b[0m\u001b[0;34m\u001b[0m\u001b[0m\n",
            "\u001b[0;32m/usr/local/lib/python3.6/dist-packages/jupyter_client/session.py\u001b[0m in \u001b[0;36mrecv\u001b[0;34m(self, socket, mode, content, copy)\u001b[0m\n\u001b[1;32m    802\u001b[0m         \u001b[0;32mtry\u001b[0m\u001b[0;34m:\u001b[0m\u001b[0;34m\u001b[0m\u001b[0;34m\u001b[0m\u001b[0m\n\u001b[0;32m--> 803\u001b[0;31m             \u001b[0mmsg_list\u001b[0m \u001b[0;34m=\u001b[0m \u001b[0msocket\u001b[0m\u001b[0;34m.\u001b[0m\u001b[0mrecv_multipart\u001b[0m\u001b[0;34m(\u001b[0m\u001b[0mmode\u001b[0m\u001b[0;34m,\u001b[0m \u001b[0mcopy\u001b[0m\u001b[0;34m=\u001b[0m\u001b[0mcopy\u001b[0m\u001b[0;34m)\u001b[0m\u001b[0;34m\u001b[0m\u001b[0;34m\u001b[0m\u001b[0m\n\u001b[0m\u001b[1;32m    804\u001b[0m         \u001b[0;32mexcept\u001b[0m \u001b[0mzmq\u001b[0m\u001b[0;34m.\u001b[0m\u001b[0mZMQError\u001b[0m \u001b[0;32mas\u001b[0m \u001b[0me\u001b[0m\u001b[0;34m:\u001b[0m\u001b[0;34m\u001b[0m\u001b[0;34m\u001b[0m\u001b[0m\n",
            "\u001b[0;32m/usr/local/lib/python3.6/dist-packages/zmq/sugar/socket.py\u001b[0m in \u001b[0;36mrecv_multipart\u001b[0;34m(self, flags, copy, track)\u001b[0m\n\u001b[1;32m    465\u001b[0m         \"\"\"\n\u001b[0;32m--> 466\u001b[0;31m         \u001b[0mparts\u001b[0m \u001b[0;34m=\u001b[0m \u001b[0;34m[\u001b[0m\u001b[0mself\u001b[0m\u001b[0;34m.\u001b[0m\u001b[0mrecv\u001b[0m\u001b[0;34m(\u001b[0m\u001b[0mflags\u001b[0m\u001b[0;34m,\u001b[0m \u001b[0mcopy\u001b[0m\u001b[0;34m=\u001b[0m\u001b[0mcopy\u001b[0m\u001b[0;34m,\u001b[0m \u001b[0mtrack\u001b[0m\u001b[0;34m=\u001b[0m\u001b[0mtrack\u001b[0m\u001b[0;34m)\u001b[0m\u001b[0;34m]\u001b[0m\u001b[0;34m\u001b[0m\u001b[0;34m\u001b[0m\u001b[0m\n\u001b[0m\u001b[1;32m    467\u001b[0m         \u001b[0;31m# have first part already, only loop while more to receive\u001b[0m\u001b[0;34m\u001b[0m\u001b[0;34m\u001b[0m\u001b[0;34m\u001b[0m\u001b[0m\n",
            "\u001b[0;32mzmq/backend/cython/socket.pyx\u001b[0m in \u001b[0;36mzmq.backend.cython.socket.Socket.recv\u001b[0;34m()\u001b[0m\n",
            "\u001b[0;32mzmq/backend/cython/socket.pyx\u001b[0m in \u001b[0;36mzmq.backend.cython.socket.Socket.recv\u001b[0;34m()\u001b[0m\n",
            "\u001b[0;32mzmq/backend/cython/socket.pyx\u001b[0m in \u001b[0;36mzmq.backend.cython.socket._recv_copy\u001b[0;34m()\u001b[0m\n",
            "\u001b[0;32m/usr/local/lib/python3.6/dist-packages/zmq/backend/cython/checkrc.pxd\u001b[0m in \u001b[0;36mzmq.backend.cython.checkrc._check_rc\u001b[0;34m()\u001b[0m\n",
            "\u001b[0;31mKeyboardInterrupt\u001b[0m: ",
            "\nDuring handling of the above exception, another exception occurred:\n",
            "\u001b[0;31mKeyboardInterrupt\u001b[0m                         Traceback (most recent call last)",
            "\u001b[0;32m<ipython-input-235-d5df0069828e>\u001b[0m in \u001b[0;36m<module>\u001b[0;34m()\u001b[0m\n\u001b[1;32m      1\u001b[0m \u001b[0;32mfrom\u001b[0m \u001b[0mgoogle\u001b[0m\u001b[0;34m.\u001b[0m\u001b[0mcolab\u001b[0m \u001b[0;32mimport\u001b[0m \u001b[0mdrive\u001b[0m\u001b[0;34m\u001b[0m\u001b[0;34m\u001b[0m\u001b[0m\n\u001b[0;32m----> 2\u001b[0;31m \u001b[0mdrive\u001b[0m\u001b[0;34m.\u001b[0m\u001b[0mmount\u001b[0m\u001b[0;34m(\u001b[0m\u001b[0;34m'/content/drive'\u001b[0m\u001b[0;34m)\u001b[0m\u001b[0;34m\u001b[0m\u001b[0;34m\u001b[0m\u001b[0m\n\u001b[0m",
            "\u001b[0;32m/usr/local/lib/python3.6/dist-packages/google/colab/drive.py\u001b[0m in \u001b[0;36mmount\u001b[0;34m(mountpoint, force_remount, timeout_ms, use_metadata_server)\u001b[0m\n\u001b[1;32m    235\u001b[0m       \u001b[0mauth_prompt\u001b[0m \u001b[0;34m=\u001b[0m \u001b[0md\u001b[0m\u001b[0;34m.\u001b[0m\u001b[0mmatch\u001b[0m\u001b[0;34m.\u001b[0m\u001b[0mgroup\u001b[0m\u001b[0;34m(\u001b[0m\u001b[0;36m1\u001b[0m\u001b[0;34m)\u001b[0m \u001b[0;34m+\u001b[0m \u001b[0;34m'\\nEnter your authorization code:\\n'\u001b[0m\u001b[0;34m\u001b[0m\u001b[0;34m\u001b[0m\u001b[0m\n\u001b[1;32m    236\u001b[0m       \u001b[0;32mwith\u001b[0m \u001b[0mopen\u001b[0m\u001b[0;34m(\u001b[0m\u001b[0mfifo\u001b[0m\u001b[0;34m,\u001b[0m \u001b[0;34m'w'\u001b[0m\u001b[0;34m)\u001b[0m \u001b[0;32mas\u001b[0m \u001b[0mfifo_file\u001b[0m\u001b[0;34m:\u001b[0m\u001b[0;34m\u001b[0m\u001b[0;34m\u001b[0m\u001b[0m\n\u001b[0;32m--> 237\u001b[0;31m         \u001b[0mfifo_file\u001b[0m\u001b[0;34m.\u001b[0m\u001b[0mwrite\u001b[0m\u001b[0;34m(\u001b[0m\u001b[0m_getpass\u001b[0m\u001b[0;34m.\u001b[0m\u001b[0mgetpass\u001b[0m\u001b[0;34m(\u001b[0m\u001b[0mauth_prompt\u001b[0m\u001b[0;34m)\u001b[0m \u001b[0;34m+\u001b[0m \u001b[0;34m'\\n'\u001b[0m\u001b[0;34m)\u001b[0m\u001b[0;34m\u001b[0m\u001b[0;34m\u001b[0m\u001b[0m\n\u001b[0m\u001b[1;32m    238\u001b[0m       \u001b[0mwrote_to_fifo\u001b[0m \u001b[0;34m=\u001b[0m \u001b[0;32mTrue\u001b[0m\u001b[0;34m\u001b[0m\u001b[0;34m\u001b[0m\u001b[0m\n\u001b[1;32m    239\u001b[0m   \u001b[0;32mif\u001b[0m \u001b[0;32mnot\u001b[0m \u001b[0mwrote_to_fifo\u001b[0m\u001b[0;34m:\u001b[0m\u001b[0;34m\u001b[0m\u001b[0;34m\u001b[0m\u001b[0m\n",
            "\u001b[0;32m/usr/local/lib/python3.6/dist-packages/ipykernel/kernelbase.py\u001b[0m in \u001b[0;36mgetpass\u001b[0;34m(self, prompt, stream)\u001b[0m\n\u001b[1;32m    686\u001b[0m             \u001b[0mself\u001b[0m\u001b[0;34m.\u001b[0m\u001b[0m_parent_ident\u001b[0m\u001b[0;34m,\u001b[0m\u001b[0;34m\u001b[0m\u001b[0;34m\u001b[0m\u001b[0m\n\u001b[1;32m    687\u001b[0m             \u001b[0mself\u001b[0m\u001b[0;34m.\u001b[0m\u001b[0m_parent_header\u001b[0m\u001b[0;34m,\u001b[0m\u001b[0;34m\u001b[0m\u001b[0;34m\u001b[0m\u001b[0m\n\u001b[0;32m--> 688\u001b[0;31m             \u001b[0mpassword\u001b[0m\u001b[0;34m=\u001b[0m\u001b[0;32mTrue\u001b[0m\u001b[0;34m,\u001b[0m\u001b[0;34m\u001b[0m\u001b[0;34m\u001b[0m\u001b[0m\n\u001b[0m\u001b[1;32m    689\u001b[0m         )\n\u001b[1;32m    690\u001b[0m \u001b[0;34m\u001b[0m\u001b[0m\n",
            "\u001b[0;32m/usr/local/lib/python3.6/dist-packages/ipykernel/kernelbase.py\u001b[0m in \u001b[0;36m_input_request\u001b[0;34m(self, prompt, ident, parent, password)\u001b[0m\n\u001b[1;32m    733\u001b[0m             \u001b[0;32mexcept\u001b[0m \u001b[0mKeyboardInterrupt\u001b[0m\u001b[0;34m:\u001b[0m\u001b[0;34m\u001b[0m\u001b[0;34m\u001b[0m\u001b[0m\n\u001b[1;32m    734\u001b[0m                 \u001b[0;31m# re-raise KeyboardInterrupt, to truncate traceback\u001b[0m\u001b[0;34m\u001b[0m\u001b[0;34m\u001b[0m\u001b[0;34m\u001b[0m\u001b[0m\n\u001b[0;32m--> 735\u001b[0;31m                 \u001b[0;32mraise\u001b[0m \u001b[0mKeyboardInterrupt\u001b[0m\u001b[0;34m\u001b[0m\u001b[0;34m\u001b[0m\u001b[0m\n\u001b[0m\u001b[1;32m    736\u001b[0m             \u001b[0;32melse\u001b[0m\u001b[0;34m:\u001b[0m\u001b[0;34m\u001b[0m\u001b[0;34m\u001b[0m\u001b[0m\n\u001b[1;32m    737\u001b[0m                 \u001b[0;32mbreak\u001b[0m\u001b[0;34m\u001b[0m\u001b[0;34m\u001b[0m\u001b[0m\n",
            "\u001b[0;31mKeyboardInterrupt\u001b[0m: "
          ]
        }
      ]
    },
    {
      "cell_type": "code",
      "metadata": {
        "id": "GEqgkAI0vM4I",
        "colab_type": "code",
        "colab": {}
      },
      "source": [
        ""
      ],
      "execution_count": 0,
      "outputs": []
    },
    {
      "cell_type": "markdown",
      "metadata": {
        "id": "_PMjckF7tcgx",
        "colab_type": "text"
      },
      "source": [
        "## 0. Prerequisites\n",
        "\n",
        "The purpose of this notebook is to practice for implementing some linear algebra (equations provided) and to explore some properties of linear regression.\n",
        "\n",
        "You can use following packages in this HW:"
      ]
    },
    {
      "cell_type": "code",
      "metadata": {
        "id": "3axez2v9tcgy",
        "colab_type": "code",
        "colab": {}
      },
      "source": [
        "import numpy as np\n",
        "import scipy.linalg\n",
        "import matplotlib.pyplot as plt\n",
        "%matplotlib inline"
      ],
      "execution_count": 0,
      "outputs": []
    },
    {
      "cell_type": "markdown",
      "metadata": {
        "id": "AcUg7GtYtcg0",
        "colab_type": "text"
      },
      "source": [
        "We consider a linear regression problem of the form\n",
        "$$\n",
        "y = \\boldsymbol x^T\\boldsymbol\\theta + \\epsilon\\,,\\quad \\epsilon \\sim \\mathcal N(0, \\sigma^2)\n",
        "$$\n",
        "where $\\boldsymbol x\\in\\mathbb{R}^D$ are inputs and $y\\in\\mathbb{R}$ are noisy observations. The parameter vector $\\boldsymbol\\theta\\in\\mathbb{R}^D$ parametrizes the function.\n",
        "\n",
        "We assume we have a training set $(\\boldsymbol x_n, y_n)$, $n=1,\\ldots, N$. We summarize the sets of training inputs in $\\mathcal X = \\{\\boldsymbol x_1, \\ldots, \\boldsymbol x_N\\}$ and corresponding training targets $\\mathcal Y = \\{y_1, \\ldots, y_N\\}$, respectively.\n",
        "\n",
        "In this tutorial, we are interested in finding good parameters $\\boldsymbol\\theta$."
      ]
    },
    {
      "cell_type": "markdown",
      "metadata": {
        "id": "aRIthXnStcg1",
        "colab_type": "text"
      },
      "source": [
        "## 1. Maximum Likelihood\n",
        "We will start with maximum likelihood estimation of the parameters $\\boldsymbol\\theta$. In maximum likelihood estimation, we find the parameters $\\boldsymbol\\theta^{\\mathrm{ML}}$ that maximize the likelihood\n",
        "$$\n",
        "p(\\mathcal Y | \\mathcal X, \\boldsymbol\\theta) = \\prod_{n=1}^N p(y_n | \\boldsymbol x_n, \\boldsymbol\\theta)\\,.\n",
        "$$\n",
        "From the lecture we know that the maximum likelihood estimator is given by\n",
        "$$\n",
        "\\boldsymbol\\theta^{\\text{ML}} = (\\boldsymbol X^T\\boldsymbol X)^{-1}\\boldsymbol X^T\\boldsymbol y\\in\\mathbb{R}^D\\,,\n",
        "$$\n",
        "where \n",
        "$$\n",
        "\\boldsymbol X = [\\boldsymbol x_1, \\ldots, \\boldsymbol x_N]^T\\in\\mathbb{R}^{N\\times D}\\,,\\quad \\boldsymbol y = [y_1, \\ldots, y_N]^T \\in\\mathbb{R}^N\\,.\n",
        "$$"
      ]
    },
    {
      "cell_type": "code",
      "metadata": {
        "id": "K9rN_OpAtcg2",
        "colab_type": "code",
        "outputId": "015ef9a2-0209-4b1c-db7e-59a217d24209",
        "colab": {
          "base_uri": "https://localhost:8080/",
          "height": 279
        }
      },
      "source": [
        "# Define training set\n",
        "X = np.array([-3, -1, 0, 1, 3]).reshape(-1,1) # 5x1 vector, N=5, D=1\n",
        "y = np.array([-1.2, -0.7, 0.14, 0.67, 1.67]).reshape(-1,1) # 5x1 vector\n",
        "\n",
        "# Plot the training set\n",
        "plt.figure()\n",
        "plt.plot(X, y, '+', markersize = 10)\n",
        "plt.xlabel(\"$x$\")\n",
        "plt.ylabel(\"$y$\");"
      ],
      "execution_count": 150,
      "outputs": [
        {
          "output_type": "display_data",
          "data": {
            "image/png": "[encoded data removed]",
            "text/plain": [
              "<Figure size 432x288 with 1 Axes>"
            ]
          },
          "metadata": {
            "tags": []
          }
        }
      ]
    },
    {
      "cell_type": "markdown",
      "metadata": {
        "id": "KwlXT0Hxtcg5",
        "colab_type": "text"
      },
      "source": [
        "Let us compute the maximum likelihood estimate for a given training set"
      ]
    },
    {
      "cell_type": "markdown",
      "metadata": {
        "id": "UMtNWGKAtcg6",
        "colab_type": "text"
      },
      "source": [
        "Now, make a prediction using the maximum likelihood estimate that we just found :"
      ]
    },
    {
      "cell_type": "code",
      "metadata": {
        "id": "k50pPXkLtcg7",
        "colab_type": "code",
        "colab": {}
      },
      "source": [
        "## TODO 1: EDIT THIS FUNCTION\n",
        "def max_lik_estimate(X, y):    \n",
        "    # X: N x D matrix of training inputs\n",
        "    # y: N x 1 vector of training targets/observations\n",
        "    # returns: maximum likelihood parameters (D x 1)\n",
        "    \n",
        "    N, D = X.shape\n",
        "    theta_ml = (np.linalg.inv(((X.T)@X)))@(X.T)@y\n",
        "    \n",
        "\n",
        "    return theta_ml"
      ],
      "execution_count": 0,
      "outputs": []
    },
    {
      "cell_type": "code",
      "metadata": {
        "id": "ovdFK--Ytcg-",
        "colab_type": "code",
        "colab": {}
      },
      "source": [
        "# get maximum likelihood estimate\n",
        "theta_ml = max_lik_estimate(X,y)"
      ],
      "execution_count": 0,
      "outputs": []
    },
    {
      "cell_type": "markdown",
      "metadata": {
        "id": "be_tmExhtchB",
        "colab_type": "text"
      },
      "source": [
        "Now, let's see whether we got something useful:"
      ]
    },
    {
      "cell_type": "code",
      "metadata": {
        "id": "xCn2ctubtchB",
        "colab_type": "code",
        "colab": {}
      },
      "source": [
        "## TODO 2: EDIT THIS FUNCTION\n",
        "def predict_with_estimate(Xtest, theta):\n",
        "    \n",
        "    # Xtest: K x D matrix of test inputs\n",
        "    # theta: D x 1 vector of parameters\n",
        "    # returns: prediction of f(Xtest); K x 1 vector\n",
        "    \n",
        "    prediction = Xtest@theta ## <-- EDIT THIS LINE       \n",
        "    #raise NotImplementedError\n",
        "    \n",
        "    return prediction "
      ],
      "execution_count": 0,
      "outputs": []
    },
    {
      "cell_type": "code",
      "metadata": {
        "id": "nLBObEHDtchE",
        "colab_type": "code",
        "outputId": "27e6cbe8-b69e-425d-ff95-c966dafa9942",
        "colab": {
          "base_uri": "https://localhost:8080/",
          "height": 279
        }
      },
      "source": [
        "# define a test set\n",
        "Xtest = np.linspace(-5,5,100).reshape(-1,1) # 100 x 1 vector of test inputs\n",
        "\n",
        "# predict the function values at the test points using the maximum likelihood estimator\n",
        "ml_prediction = predict_with_estimate(Xtest, theta_ml)\n",
        "\n",
        "# plot\n",
        "plt.figure()\n",
        "plt.plot(X, y, '+', markersize=10)\n",
        "plt.plot(Xtest, ml_prediction)\n",
        "plt.xlabel(\"$x$\")\n",
        "plt.ylabel(\"$y$\");"
      ],
      "execution_count": 154,
      "outputs": [
        {
          "output_type": "display_data",
          "data": {
            "image/png": "[encoded data removed]",
            "text/plain": [
              "<Figure size 432x288 with 1 Axes>"
            ]
          },
          "metadata": {
            "tags": []
          }
        }
      ]
    },
    {
      "cell_type": "markdown",
      "metadata": {
        "id": "1MnhnvrUtchG",
        "colab_type": "text"
      },
      "source": [
        "**Questions 1**\n",
        "\n",
        "Q1-1. Does the solution above look reasonable?\n",
        "\n",
        "Q1-2. Play around with different values of $\\theta$. How do the corresponding functions change?\n",
        "\n",
        "Q1-3. Modify the training targets $\\mathcal Y$ and re-run your computation. What changes?"
      ]
    },
    {
      "cell_type": "markdown",
      "metadata": {
        "id": "qJgzLxrhoncF",
        "colab_type": "text"
      },
      "source": [
        "**Answers 1**\n",
        "\n",
        "Q1-1. Yes\n",
        "\n",
        "Q1-2. The slope of the linear function changes according to theta.\n",
        "\n",
        "Q1-3. If multiflying any constant to each components, it still be a appropriate regression. However, if adding any constant to each components, the regression become shifted.\n",
        "\n",
        "\n",
        "---\n",
        "\n"
      ]
    },
    {
      "cell_type": "markdown",
      "metadata": {
        "id": "um32YzT0tchH",
        "colab_type": "text"
      },
      "source": [
        "Let us now look at a different training set, where we add 2.0 to every $y$-value, and compute the maximum likelihood estimate"
      ]
    },
    {
      "cell_type": "code",
      "metadata": {
        "id": "nBIcmUqHtchI",
        "colab_type": "code",
        "outputId": "2ff2f702-04ad-4f26-ddfd-e62f598e65ca",
        "colab": {
          "base_uri": "https://localhost:8080/",
          "height": 279
        }
      },
      "source": [
        "ynew = y + 2.0\n",
        "\n",
        "plt.figure()\n",
        "plt.plot(X, ynew, '+', markersize=10)\n",
        "plt.xlabel(\"$x$\")\n",
        "plt.ylabel(\"$y$\");"
      ],
      "execution_count": 155,
      "outputs": [
        {
          "output_type": "display_data",
          "data": {
            "image/png": "[encoded data removed]",
            "text/plain": [
              "<Figure size 432x288 with 1 Axes>"
            ]
          },
          "metadata": {
            "tags": []
          }
        }
      ]
    },
    {
      "cell_type": "code",
      "metadata": {
        "id": "NiS3f39ptchL",
        "colab_type": "code",
        "outputId": "034a2f35-bffd-4173-e2fc-20b15ec6cf6d",
        "colab": {
          "base_uri": "https://localhost:8080/",
          "height": 297
        }
      },
      "source": [
        "# get maximum likelihood estimate\n",
        "theta_ml = max_lik_estimate(X, ynew)\n",
        "print(theta_ml)\n",
        "\n",
        "# define a test set\n",
        "Xtest = np.linspace(-5,5,100).reshape(-1,1) # 100 x 1 vector of test inputs\n",
        "\n",
        "# predict the function values at the test points using the maximum likelihood estimator\n",
        "ml_prediction = predict_with_estimate(Xtest, theta_ml)\n",
        "\n",
        "# plot\n",
        "plt.figure()\n",
        "plt.plot(X, ynew, '+', markersize=10)\n",
        "plt.plot(Xtest, ml_prediction)\n",
        "plt.xlabel(\"$x$\")\n",
        "plt.ylabel(\"$y$\");"
      ],
      "execution_count": 156,
      "outputs": [
        {
          "output_type": "stream",
          "text": [
            "[[0.499]]\n"
          ],
          "name": "stdout"
        },
        {
          "output_type": "display_data",
          "data": {
            "image/png": "[encoded data removed]",
            "text/plain": [
              "<Figure size 432x288 with 1 Axes>"
            ]
          },
          "metadata": {
            "tags": []
          }
        }
      ]
    },
    {
      "cell_type": "markdown",
      "metadata": {
        "id": "geV8NhVltchO",
        "colab_type": "text"
      },
      "source": [
        "**Questions 2**\n",
        "\n",
        "Q2-1. This maximum likelihood estimate doesn't look too good: The orange line is too far away from the observations although we just shifted them by 2. Why is this the case?\n",
        "\n",
        "Q2-2. How can we fix this problem?\n"
      ]
    },
    {
      "cell_type": "markdown",
      "metadata": {
        "id": "g6t75rXrrLBZ",
        "colab_type": "text"
      },
      "source": [
        "**Answers 2**\n",
        "\n",
        "Q2-1. The reason is that a bias is added to the given y.\n",
        "\n",
        "Q2-2. We can fix it by modifying the bias according to the theta.\n",
        "\n",
        "\n",
        "---\n"
      ]
    },
    {
      "cell_type": "markdown",
      "metadata": {
        "id": "lq7jAcevtchO",
        "colab_type": "text"
      },
      "source": [
        "Let us now define a linear regression model that is slightly more flexible:\n",
        "$$\n",
        "y = \\theta_0 + \\boldsymbol x^T \\boldsymbol\\theta_1 + \\epsilon\\,,\\quad \\epsilon\\sim\\mathcal N(0,\\sigma^2)\n",
        "$$\n",
        "Here, we added an offset (bias) parameter $\\theta_0$ to our original model."
      ]
    },
    {
      "cell_type": "markdown",
      "metadata": {
        "id": "OqU5oGPXtchQ",
        "colab_type": "text"
      },
      "source": [
        "If we now define the inputs to be the augmented vector $\\boldsymbol x_{\\text{aug}} = \\begin{bmatrix}1\\\\\\boldsymbol x\\end{bmatrix}$, we can write the new linear regression model as \n",
        "$$\n",
        "y = \\boldsymbol x_{\\text{aug}}^T\\boldsymbol\\theta_{\\text{aug}} + \\epsilon\\,,\\quad \\boldsymbol\\theta_{\\text{aug}} = \\begin{bmatrix}\n",
        "\\theta_0\\\\\n",
        "\\boldsymbol\\theta_1\n",
        "\\end{bmatrix}\\,.\n",
        "$$"
      ]
    },
    {
      "cell_type": "code",
      "metadata": {
        "id": "bON8S0VNtchR",
        "colab_type": "code",
        "colab": {}
      },
      "source": [
        "N, D = X.shape\n",
        "X_aug = np.hstack([np.ones((N,1)), X]) # augmented training inputs of size N x (D+1)\n",
        "theta_aug = np.zeros((D+1, 1)) # new theta vector of size (D+1) x 1"
      ],
      "execution_count": 0,
      "outputs": []
    },
    {
      "cell_type": "markdown",
      "metadata": {
        "id": "Rxi4dh5WtchT",
        "colab_type": "text"
      },
      "source": [
        "Let us now compute the maximum likelihood estimator for this setting.\n",
        "_Hint:_ If possible, re-use code that you have already written"
      ]
    },
    {
      "cell_type": "code",
      "metadata": {
        "id": "BMCRLF5stchU",
        "colab_type": "code",
        "colab": {}
      },
      "source": [
        "## TODO 3: EDIT THIS FUNCTION\n",
        "def max_lik_estimate_aug(X_aug, y):\n",
        "  \n",
        "    N, D = X_aug.shape\n",
        "    theta_aug_ml = max_lik_estimate(X_aug, y) ## <-- EDIT THIS LINE    \n",
        "    #raise NotImplementedError\n",
        "    \n",
        "    return theta_aug_ml"
      ],
      "execution_count": 0,
      "outputs": []
    },
    {
      "cell_type": "code",
      "metadata": {
        "id": "1J71b9m4tchW",
        "colab_type": "code",
        "colab": {}
      },
      "source": [
        "theta_aug_ml = max_lik_estimate_aug(X_aug, ynew)"
      ],
      "execution_count": 0,
      "outputs": []
    },
    {
      "cell_type": "markdown",
      "metadata": {
        "id": "cfAD5SmWtchZ",
        "colab_type": "text"
      },
      "source": [
        "Now, we can make predictions again:"
      ]
    },
    {
      "cell_type": "code",
      "metadata": {
        "id": "9FEmkdSbtchZ",
        "colab_type": "code",
        "outputId": "ffa4dc6c-d967-4540-d3f0-c9bcacd498ea",
        "colab": {
          "base_uri": "https://localhost:8080/",
          "height": 279
        }
      },
      "source": [
        "# define a test set (we also need to augment the test inputs with ones)\n",
        "Xtest_aug = np.hstack([np.ones((Xtest.shape[0],1)), Xtest]) # 100 x (D + 1) vector of test inputs\n",
        "\n",
        "# predict the function values at the test points using the maximum likelihood estimator\n",
        "ml_prediction = predict_with_estimate(Xtest_aug, theta_aug_ml)\n",
        "\n",
        "# plot\n",
        "plt.figure()\n",
        "plt.plot(X, ynew, '+', markersize=10)\n",
        "plt.plot(Xtest, ml_prediction)\n",
        "plt.xlabel(\"$x$\")\n",
        "plt.ylabel(\"$y$\");"
      ],
      "execution_count": 160,
      "outputs": [
        {
          "output_type": "display_data",
          "data": {
            "image/png": "[encoded data removed]",
            "text/plain": [
              "<Figure size 432x288 with 1 Axes>"
            ]
          },
          "metadata": {
            "tags": []
          }
        }
      ]
    },
    {
      "cell_type": "markdown",
      "metadata": {
        "id": "FieYy4v7tchc",
        "colab_type": "text"
      },
      "source": [
        "It seems this has solved our problem! \n",
        "\n",
        "**Questions 3**\n",
        "\n",
        "Q3-1. Play around with the first parameter of $\\boldsymbol\\theta_{\\text{aug}}$ and describe how the fit of the function changes.\n",
        "\n",
        "Q3-2. Play around with the second parameter of $\\boldsymbol\\theta_{\\text{aug}}$ and describe how the fit of the function changes.\n"
      ]
    },
    {
      "cell_type": "markdown",
      "metadata": {
        "id": "iH8GVnaprm72",
        "colab_type": "text"
      },
      "source": [
        "**Answers 3**\n",
        "\n",
        "Q3-1. The bias would change.\n",
        "\n",
        "Q3-2. The slope would change.\n",
        "\n",
        "\n",
        "---"
      ]
    },
    {
      "cell_type": "markdown",
      "metadata": {
        "id": "V01hHiXVtchd",
        "colab_type": "text"
      },
      "source": [
        "### Nonlinear Features : Polynomial Regression\n",
        "So far, we have looked at linear regression with linear features. This allowed us to fit straight lines. However, linear regression also allows us to fit functions that are nonlinear in the inputs $\\boldsymbol x$, as long as the parameters $\\boldsymbol\\theta$ appear linearly. This means, we can learn functions of the form\n",
        "$$\n",
        "f(\\boldsymbol x, \\boldsymbol\\theta) = \\sum_{k = 1}^K \\theta_k \\phi_k(\\boldsymbol x)\\,,\n",
        "$$\n",
        "where the features $\\phi_k(\\boldsymbol x)$ are (possibly nonlinear) transformations of the inputs $\\boldsymbol x$.\n",
        "\n",
        "Let us have a look at an example where the observations clearly do not lie on a straight line:"
      ]
    },
    {
      "cell_type": "code",
      "metadata": {
        "id": "Oo7QVGq6tche",
        "colab_type": "code",
        "outputId": "4895bd36-bc94-48b6-c4e4-e4e8bb9c21b0",
        "colab": {
          "base_uri": "https://localhost:8080/",
          "height": 279
        }
      },
      "source": [
        "y = np.array([10.05, 1.5, -1.234, 0.02, 8.03]).reshape(-1,1)\n",
        "plt.figure()\n",
        "plt.plot(X, y, '+')\n",
        "plt.xlabel(\"$x$\")\n",
        "plt.ylabel(\"$y$\");"
      ],
      "execution_count": 161,
      "outputs": [
        {
          "output_type": "display_data",
          "data": {
            "image/png": "[encoded data removed]",
            "text/plain": [
              "<Figure size 432x288 with 1 Axes>"
            ]
          },
          "metadata": {
            "tags": []
          }
        }
      ]
    },
    {
      "cell_type": "markdown",
      "metadata": {
        "id": "_rxZyiYCtchg",
        "colab_type": "text"
      },
      "source": [
        "One class of functions that is covered by linear regression is the family of polynomials because we can write a polynomial of degree $K$ as\n",
        "$$\n",
        "\\sum_{k=0}^K \\theta_k x^k = \\boldsymbol \\phi(x)^T\\boldsymbol\\theta\\,,\\quad\n",
        "\\boldsymbol\\phi(x)= \n",
        "\\begin{bmatrix}\n",
        "x^0\\\\\n",
        "x^1\\\\\n",
        "\\vdots\\\\\n",
        "x^K\n",
        "\\end{bmatrix}\\in\\mathbb{R}^{K+1}\\,.\n",
        "$$\n",
        "Here, $\\boldsymbol\\phi(x)$ is a nonlinear feature transformation of the inputs $x\\in\\mathbb{R}$.\n",
        "\n",
        "Similar to the earlier case we can define a matrix that collects all the feature transformations of the training inputs:\n",
        "$$\n",
        "\\boldsymbol\\Phi = \\begin{bmatrix}\n",
        "\\boldsymbol\\phi(x_1) & \\boldsymbol\\phi(x_2) & \\cdots & \\boldsymbol\\phi(x_n)\n",
        "\\end{bmatrix}^T \\in\\mathbb{R}^{N\\times K+1}\n",
        "$$"
      ]
    },
    {
      "cell_type": "markdown",
      "metadata": {
        "id": "0BEsjzJztchh",
        "colab_type": "text"
      },
      "source": [
        "Let us start by computing the feature matrix $\\boldsymbol \\Phi$"
      ]
    },
    {
      "cell_type": "code",
      "metadata": {
        "id": "mJwk-iSdtchi",
        "colab_type": "code",
        "colab": {}
      },
      "source": [
        "## TODO 4: EDIT THIS FUNCTION\n",
        "def poly_features(X, K):\n",
        "    \n",
        "    # X: inputs of size N x 1\n",
        "    # K: degree of the polynomial\n",
        "    # computes the feature matrix Phi (N x (K+1))\n",
        "    \n",
        "    X = X.flatten()\n",
        "    N = X.shape[0]\n",
        "    \n",
        "    #initialize Phi\n",
        "    Phi = np.zeros((N, K+1))\n",
        "    \n",
        "    # Compute the feature matrix in stages\n",
        "    for i in range(N):\n",
        "      for j in range(K + 1):\n",
        "        Phi[i][j] = X[i]**j\n",
        "    #raise NotImplementedError\n",
        "\n",
        "    return Phi"
      ],
      "execution_count": 0,
      "outputs": []
    },
    {
      "cell_type": "markdown",
      "metadata": {
        "id": "0hUKSAbotchk",
        "colab_type": "text"
      },
      "source": [
        "With this feature matrix we get the maximum likelihood estimator as\n",
        "$$\n",
        "\\boldsymbol \\theta^\\text{ML} = (\\boldsymbol\\Phi^T\\boldsymbol\\Phi)^{-1}\\boldsymbol\\Phi^T\\boldsymbol y\n",
        "$$\n",
        "For reasons of numerical stability, we often add a small diagonal \"jitter\" $\\kappa>0$ to $\\boldsymbol\\Phi^T\\boldsymbol\\Phi$ so that we can invert the matrix without significant problems so that the maximum likelihood estimate becomes\n",
        "$$\n",
        "\\boldsymbol \\theta^\\text{ML} = (\\boldsymbol\\Phi^T\\boldsymbol\\Phi + \\kappa\\boldsymbol I)^{-1}\\boldsymbol\\Phi^T\\boldsymbol y\n",
        "$$"
      ]
    },
    {
      "cell_type": "code",
      "metadata": {
        "id": "MKAMNMq4tchl",
        "colab_type": "code",
        "colab": {}
      },
      "source": [
        "## TODO 5: EDIT THIS FUNCTION\n",
        "def nonlinear_features_maximum_likelihood(Phi, y):\n",
        "    # Phi: features matrix for training inputs. Size of N x D\n",
        "    # y: training targets. Size of N by 1\n",
        "    # returns: maximum likelihood estimator theta_ml. Size of D x 1\n",
        "    \n",
        "    kappa = 1e-08 # 'jitter' term; good for numerical stability\n",
        "    \n",
        "    D = Phi.shape[1]  \n",
        "    \n",
        "    # maximum likelihood estimate    \n",
        "    theta_ml = (np.linalg.inv((Phi.T)@Phi + kappa*(np.eye(D))))@(Phi.T)@y ## <-- EDIT THIS LINE    \n",
        "\n",
        "    #raise NotImplementedError\n",
        " \n",
        "    return theta_ml"
      ],
      "execution_count": 0,
      "outputs": []
    },
    {
      "cell_type": "markdown",
      "metadata": {
        "id": "xWc1LLMmtchp",
        "colab_type": "text"
      },
      "source": [
        "Now we have all the ingredients together: The computation of the feature matrix and the computation of the maximum likelihood estimator for polynomial regression. Let's see how this works.\n",
        "\n",
        "To make predictions at test inputs $\\boldsymbol X_{\\text{test}}\\in\\mathbb{R}$, we need to compute the features (nonlinear transformations) $\\boldsymbol\\Phi_{\\text{test}}= \\boldsymbol\\phi(\\boldsymbol X_{\\text{test}})$ of $\\boldsymbol X_{\\text{test}}$ to give us the predicted mean\n",
        "$$\n",
        "\\mathbb{E}[\\boldsymbol y_{\\text{test}}] = \\boldsymbol \\Phi_{\\text{test}}\\boldsymbol\\theta^{\\text{ML}}\n",
        "$$"
      ]
    },
    {
      "cell_type": "code",
      "metadata": {
        "id": "cN2drY4ktchr",
        "colab_type": "code",
        "outputId": "72c75bfa-5e14-4dd8-d12d-3077b6ddd22f",
        "colab": {
          "base_uri": "https://localhost:8080/",
          "height": 279
        }
      },
      "source": [
        "K = 8 # Define the degree of the polynomial we wish to fit\n",
        "Phi = poly_features(X, K) # N x (K+1) feature matrix\n",
        "\n",
        "theta_ml = nonlinear_features_maximum_likelihood(Phi, y) # maximum likelihood estimator\n",
        "\n",
        "# test inputs\n",
        "Xtest = np.linspace(-4,4,100).reshape(-1,1)\n",
        "\n",
        "# feature matrix for test inputs\n",
        "Phi_test = poly_features(Xtest, K)\n",
        "\n",
        "y_pred = Phi_test @ theta_ml # predicted y-values\n",
        "\n",
        "plt.figure()\n",
        "plt.plot(X, y, '+')\n",
        "plt.plot(Xtest, y_pred)\n",
        "plt.xlabel(\"$x$\")\n",
        "plt.ylabel(\"$y$\");"
      ],
      "execution_count": 164,
      "outputs": [
        {
          "output_type": "display_data",
          "data": {
            "image/png": "[encoded data removed]",
            "text/plain": [
              "<Figure size 432x288 with 1 Axes>"
            ]
          },
          "metadata": {
            "tags": []
          }
        }
      ]
    },
    {
      "cell_type": "markdown",
      "metadata": {
        "id": "xAyIg9EGtchu",
        "colab_type": "text"
      },
      "source": [
        "Experiment with different polynomial degrees in the code above.\n",
        "\n",
        "**Questions 4**\n",
        "\n",
        "Q4-1. What do you observe?\n",
        "\n",
        "Q4-2. What is a good fit?"
      ]
    },
    {
      "cell_type": "markdown",
      "metadata": {
        "id": "o_Ix8AXIrw67",
        "colab_type": "text"
      },
      "source": [
        "**Answers 4**\n",
        "\n",
        "Q4-1. The polynomial fits the test sample well, but there is overfitting at the both sides.\n",
        "\n",
        "Q4-2. A good fit needs to be fitted with test sample without overfitting or underfitting. Thus, we have to find the best degree of a polynomial.\n",
        "\n",
        "\n",
        "---"
      ]
    },
    {
      "cell_type": "markdown",
      "metadata": {
        "id": "QXRnv4cStchy",
        "colab_type": "text"
      },
      "source": [
        "### Evaluating the Quality of the Model"
      ]
    },
    {
      "cell_type": "markdown",
      "metadata": {
        "id": "1HdvFeDCtchz",
        "colab_type": "text"
      },
      "source": [
        "Let us have a look at a more interesting data set"
      ]
    },
    {
      "cell_type": "code",
      "metadata": {
        "id": "o-v0-xCjtch0",
        "colab_type": "code",
        "outputId": "3ce55e3c-cb51-44d5-88c6-8e1938003567",
        "colab": {
          "base_uri": "https://localhost:8080/",
          "height": 279
        }
      },
      "source": [
        "def f(x):   \n",
        "    return np.cos(x) + 0.2 * np.random.normal(size=(x.shape))\n",
        "\n",
        "X = np.linspace(-4,4,20).reshape(-1,1)\n",
        "y = f(X)\n",
        "\n",
        "plt.figure()\n",
        "plt.plot(X, y, '+')\n",
        "plt.xlabel(\"$x$\")\n",
        "plt.ylabel(\"$y$\");"
      ],
      "execution_count": 165,
      "outputs": [
        {
          "output_type": "display_data",
          "data": {
            "image/png": "[encoded data removed]",
            "text/plain": [
              "<Figure size 432x288 with 1 Axes>"
            ]
          },
          "metadata": {
            "tags": []
          }
        }
      ]
    },
    {
      "cell_type": "markdown",
      "metadata": {
        "id": "j4MHAdH0tch2",
        "colab_type": "text"
      },
      "source": [
        "Now, let us use the work from above and fit polynomials to this dataset."
      ]
    },
    {
      "cell_type": "code",
      "metadata": {
        "id": "6ePqMMRktch3",
        "colab_type": "code",
        "outputId": "36e34758-82f2-4fff-88f7-b07f2c81045c",
        "colab": {
          "base_uri": "https://localhost:8080/",
          "height": 279
        }
      },
      "source": [
        "## TODO 6: EDIT THIS CELL\n",
        "K = 6 # Define the degree of the polynomial we wish to fit\n",
        "\n",
        "Phi = poly_features(X, K) # N x (K+1) feature matrix\n",
        "\n",
        "theta_ml = nonlinear_features_maximum_likelihood(Phi, y) # maximum likelihood estimator\n",
        "\n",
        "# test inputs\n",
        "Xtest = np.linspace(-5,5,100).reshape(-1,1)\n",
        "ytest = f(Xtest) # ground-truth y-values\n",
        "\n",
        "# feature matrix for test inputs\n",
        "Phi_test = poly_features(Xtest, K)\n",
        "\n",
        "#print(ytest)\n",
        "#y_pred = Xtest*0 # <-- EDIT THIS LINE\n",
        "y_pred = Phi_test@theta_ml\n",
        "\n",
        "#raise NotImplementedError\n",
        "\n",
        "# plot\n",
        "plt.figure()\n",
        "plt.plot(X, y, '+')\n",
        "plt.plot(Xtest, y_pred)\n",
        "plt.plot(Xtest, ytest)\n",
        "plt.legend([\"data\", \"prediction\", \"ground truth observations\"])\n",
        "plt.xlabel(\"$x$\")\n",
        "plt.ylabel(\"$y$\");\n"
      ],
      "execution_count": 166,
      "outputs": [
        {
          "output_type": "display_data",
          "data": {
            "image/png": "[encoded data removed]",
            "text/plain": [
              "<Figure size 432x288 with 1 Axes>"
            ]
          },
          "metadata": {
            "tags": []
          }
        }
      ]
    },
    {
      "cell_type": "markdown",
      "metadata": {
        "id": "MlgJ3x7Ftch5",
        "colab_type": "text"
      },
      "source": [
        "**Question 5**\n",
        "\n",
        "Q5-1. Try out different degrees of polynomials. Based on visual inspection, what looks like the best fit? Why?"
      ]
    },
    {
      "cell_type": "markdown",
      "metadata": {
        "id": "UuLJvMGIsJYv",
        "colab_type": "text"
      },
      "source": [
        "**Answers 5**\n",
        "\n",
        "Q5-1. Based on 'my' visual inspection, the fit with K = 6 would be the best. \n",
        "\n",
        "\n",
        "---"
      ]
    },
    {
      "cell_type": "markdown",
      "metadata": {
        "id": "5EwLRp7Stch5",
        "colab_type": "text"
      },
      "source": [
        "Let us now look at a more systematic way to assess the quality of the polynomial that we are trying to fit. For this, we compute the root-mean-squared-error (RMSE) between the $y$-values predicted by our polynomial and the ground-truth $y$-values. The RMSE is then defined as\n",
        "$$\n",
        "\\text{RMSE} = \\sqrt{\\frac{1}{N}\\sum_{n=1}^N(y_n - y_n^\\text{pred})^2}\n",
        "$$\n",
        "Write a function that computes the RMSE."
      ]
    },
    {
      "cell_type": "code",
      "metadata": {
        "id": "Jm-JtR1Ptch6",
        "colab_type": "code",
        "colab": {}
      },
      "source": [
        "## TODO 7: EDIT THIS FUNCTION\n",
        "def RMSE(y, ypred):\n",
        "    N = len(y.flatten())\n",
        "    tmp = []\n",
        "    for i in range(N):\n",
        "      tmp.append((y[i] - ypred[i])**2)\n",
        "    rmse =  ((1/N)*(sum(tmp)))**(0.5)## <-- EDIT THIS LINE        \n",
        "    #raise NotImplementedError\n",
        "    \n",
        "    return rmse"
      ],
      "execution_count": 0,
      "outputs": []
    },
    {
      "cell_type": "markdown",
      "metadata": {
        "id": "od2xmy17tch8",
        "colab_type": "text"
      },
      "source": [
        "Now compute the RMSE for different degrees of the polynomial we want to fit."
      ]
    },
    {
      "cell_type": "code",
      "metadata": {
        "id": "ZD2NLB0ztch8",
        "colab_type": "code",
        "outputId": "61860f26-0a87-41aa-aa1a-14477d386c12",
        "colab": {
          "base_uri": "https://localhost:8080/",
          "height": 279
        }
      },
      "source": [
        "## TODO 8: EDIT THIS CELL\n",
        "K_max = 20\n",
        "rmse_train = np.zeros((K_max+1,))\n",
        "\n",
        "for k in range(K_max+1):\n",
        "  Phi = poly_features(X, k)\n",
        "  theta_ml = nonlinear_features_maximum_likelihood(Phi, y) \n",
        "  ypred = Phi@theta_ml\n",
        "  rmse_train[k] = RMSE(y, ypred) # <-- EDIT THIS LINE\n",
        "  \n",
        "#raise NotImplementedError\n",
        "\n",
        "plt.figure()\n",
        "plt.plot(rmse_train)\n",
        "plt.xlabel(\"degree of polynomial\")\n",
        "plt.ylabel(\"RMSE\");"
      ],
      "execution_count": 168,
      "outputs": [
        {
          "output_type": "display_data",
          "data": {
            "image/png": "[encoded data removed]",
            "text/plain": [
              "<Figure size 432x288 with 1 Axes>"
            ]
          },
          "metadata": {
            "tags": []
          }
        }
      ]
    },
    {
      "cell_type": "markdown",
      "metadata": {
        "id": "8vYzQ4Tftch_",
        "colab_type": "text"
      },
      "source": [
        "**Question 6**\n",
        "\n",
        "Q6-1. What is the best polynomial fit according to this plot? Why?\n",
        "\n",
        "Q6-2. Write some code that plots the function that uses the best polynomial degree (use the test set for this plot). What do you observe now?\n"
      ]
    },
    {
      "cell_type": "markdown",
      "metadata": {
        "id": "hkRYupaqsT8H",
        "colab_type": "text"
      },
      "source": [
        "**Answers 6**\n",
        "\n",
        "Q6-1. the polynomial fit with K = 17 is the best because RMSE is the smallest in above case.\n",
        "\n",
        "Q6-2. There is a good fit but seems that there is somewhat misleading.\n",
        "\n",
        "\n",
        "---"
      ]
    },
    {
      "cell_type": "code",
      "metadata": {
        "id": "JjSkzSLotch_",
        "colab_type": "code",
        "outputId": "6b1cde0d-020e-4d2b-ab01-e73dcfacfae0",
        "colab": {
          "base_uri": "https://localhost:8080/",
          "height": 279
        }
      },
      "source": [
        "# TODO 9: WRITE THE PLOTTING CODE HERE\n",
        "plt.figure()\n",
        "plt.plot(X, y, '+')\n",
        "#ypred_test = Xtest*0 ## <--- EDIT THIS LINE (hint: you may require a few lines to do the computation)\n",
        "\n",
        "K = np.where(rmse_train == min(rmse_train))[0][0]\n",
        "Phi = poly_features(X, K)\n",
        "theta_ml = nonlinear_features_maximum_likelihood(Phi, y)\n",
        "newPhi = poly_features(Xtest, K)\n",
        "ypred_test = newPhi@theta_ml\n",
        "#raise NotImplementedError\n",
        "\n",
        "plt.plot(Xtest, ypred_test) \n",
        "plt.xlabel(\"$x$\")\n",
        "plt.ylabel(\"$y$\")\n",
        "plt.legend([\"train_data\", \"maximum likelihood fit\"]);"
      ],
      "execution_count": 169,
      "outputs": [
        {
          "output_type": "display_data",
          "data": {
            "image/png": "[encoded data removed]",
            "text/plain": [
              "<Figure size 432x288 with 1 Axes>"
            ]
          },
          "metadata": {
            "tags": []
          }
        }
      ]
    },
    {
      "cell_type": "markdown",
      "metadata": {
        "id": "mHU6xQLxtciB",
        "colab_type": "text"
      },
      "source": [
        "The RMSE on the training data is somewhat misleading, because we are interested in the generalization performance of the model. Therefore, we are going to compute the RMSE on the test set and use this to choose a good polynomial degree."
      ]
    },
    {
      "cell_type": "code",
      "metadata": {
        "id": "dZq6mD0itciC",
        "colab_type": "code",
        "outputId": "5873b2c7-52bc-4fef-8d75-fda6b501a7ff",
        "colab": {
          "base_uri": "https://localhost:8080/",
          "height": 279
        }
      },
      "source": [
        "## TODO 10: EDIT THIS CELL\n",
        "K_max = 20\n",
        "rmse_train = np.zeros((K_max+1,))\n",
        "rmse_test = np.zeros((K_max+1,))\n",
        "\n",
        "for k in range(K_max+1):\n",
        "    \n",
        "    # feature matrix\n",
        "    Phi = poly_features(X, k) ## <--- EDIT THIS LINE\n",
        "    \n",
        "    # maximum likelihood estimate\n",
        "    theta_ml = nonlinear_features_maximum_likelihood(Phi, y) ## <--- EDIT THIS LINE\n",
        "    \n",
        "    # predict y-values of training set\n",
        "    ypred_train = Phi@theta_ml ## <--- EDIT THIS LINE\n",
        "    \n",
        "    # RMSE on training set\n",
        "    rmse_train[k] = RMSE(y, ypred_train) ## <--- EDIT THIS LINE\n",
        "            \n",
        "    # feature matrix for test inputs\n",
        "    Phi_test = poly_features(Xtest, k) ## <--- EDIT THIS LINE\n",
        "    \n",
        "    # prediction (test set)\n",
        "    ypred_test = Phi_test@theta_ml ## <--- EDIT THIS LINE\n",
        "    \n",
        "    # RMSE on test set\n",
        "    rmse_test[k] = RMSE(ytest, ypred_test) ## <--- EDIT THIS LINE\n",
        "\n",
        "#raise NotImplementedError\n",
        "\n",
        "plt.figure()\n",
        "plt.semilogy(rmse_train) # this plots the RMSE on a logarithmic scale\n",
        "plt.semilogy(rmse_test) # this plots the RMSE on a logarithmic scale\n",
        "plt.xlabel(\"degree of polynomial\")\n",
        "plt.ylabel(\"RMSE\")\n",
        "plt.legend([\"training set\", \"test set\"]);"
      ],
      "execution_count": 170,
      "outputs": [
        {
          "output_type": "display_data",
          "data": {
            "image/png": "[encoded data removed]",
            "text/plain": [
              "<Figure size 432x288 with 1 Axes>"
            ]
          },
          "metadata": {
            "tags": []
          }
        }
      ]
    },
    {
      "cell_type": "markdown",
      "metadata": {
        "id": "f6LvGu69tciE",
        "colab_type": "text"
      },
      "source": [
        "**Question 7**\n",
        "\n",
        "Q7-1. What do you observe now?\n",
        "\n",
        "Q7-2. Why does the RMSE for the test set not always go down?\n",
        "\n",
        "Q7-3. Which polynomial degree would you choose now?\n",
        "\n",
        "Q7-4. Plot the fit for the \"best\" polynomial degree.\n",
        "\n",
        "Q7-5. If you did not have a designated test set, what could you do to estimate the generalization error (purely using the training set)?"
      ]
    },
    {
      "cell_type": "markdown",
      "metadata": {
        "id": "7Jaq0Qv3smT0",
        "colab_type": "text"
      },
      "source": [
        "**Answers 7**\n",
        "\n",
        "Q7-1. I observed the difference between the RMSE for training set and the RMSE for test set.\n",
        "\n",
        "Q7-2. Because of overfitting.\n",
        "\n",
        "Q7-3. I should choose the degree 6 because the RMSE for test set is the smallest by the above graph.\n",
        "\n",
        "Q7-4. *(IMPLEMENT CODE CELL BELOW (TODO 11))*\n",
        "\n",
        "Q7-5. We could handle that by applying cross validation.\n"
      ]
    },
    {
      "cell_type": "code",
      "metadata": {
        "id": "WuT2KxpotciF",
        "colab_type": "code",
        "outputId": "1cc989ad-96f7-491d-ec4d-0160c29a675b",
        "colab": {
          "base_uri": "https://localhost:8080/",
          "height": 279
        }
      },
      "source": [
        "# TODO 11: WRITE THE PLOTTING CODE HERE\n",
        "plt.figure()\n",
        "plt.plot(X, y, '+')\n",
        "\n",
        "K = np.where(rmse_test == min(rmse_test))[0][0]\n",
        "Phi = poly_features(X, K)\n",
        "theta_ml = nonlinear_features_maximum_likelihood(Phi, y)\n",
        "newPhi = poly_features(Xtest, K)\n",
        "ypred_test = newPhi@theta_ml\n",
        "#ypred_test = Xtest*0 ## <--- EDIT THIS LINE (hint: you may require a few lines to do the computation)\n",
        "#raise NotImplementedError\n",
        "\n",
        "plt.plot(Xtest, ypred_test) \n",
        "plt.xlabel(\"$x$\")\n",
        "plt.ylabel(\"$y$\")\n",
        "plt.legend([\"data\", \"maximum likelihood fit\"]);"
      ],
      "execution_count": 171,
      "outputs": [
        {
          "output_type": "display_data",
          "data": {
            "image/png": "[encoded data removed]",
            "text/plain": [
              "<Figure size 432x288 with 1 Axes>"
            ]
          },
          "metadata": {
            "tags": []
          }
        }
      ]
    },
    {
      "cell_type": "markdown",
      "metadata": {
        "id": "COOqjkYotFIs",
        "colab_type": "text"
      },
      "source": [
        "\n",
        "\n",
        "---\n",
        "\n"
      ]
    },
    {
      "cell_type": "markdown",
      "metadata": {
        "id": "7TNY5KlttciH",
        "colab_type": "text"
      },
      "source": [
        "## 2. Maximum A Posteriori Estimation"
      ]
    },
    {
      "cell_type": "markdown",
      "metadata": {
        "id": "vKZXlSANtciI",
        "colab_type": "text"
      },
      "source": [
        "We are still considering the model\n",
        "$$\n",
        "y = \\boldsymbol\\phi(\\boldsymbol x)^T\\boldsymbol\\theta + \\epsilon\\,,\\quad \\epsilon\\sim\\mathcal N(0,\\sigma^2)\\,.\n",
        "$$\n",
        "We assume that the noise variance $\\sigma^2$ is known."
      ]
    },
    {
      "cell_type": "markdown",
      "metadata": {
        "id": "QbD_G4txtciJ",
        "colab_type": "text"
      },
      "source": [
        "Instead of maximizing the likelihood, we can look at the maximum of the posterior distribution on the parameters $\\boldsymbol\\theta$, which is given as\n",
        "$$\n",
        "p(\\boldsymbol\\theta|\\mathcal X, \\mathcal Y) = \\frac{ \n",
        "  p(\\mathcal Y|\\mathcal X, \\boldsymbol\\theta)\n",
        "  p(\\boldsymbol\\theta)\n",
        "  }{    \n",
        "    p(\\mathcal Y|\\mathcal X)\n",
        "  }\n",
        "$$\n",
        "The purpose of the parameter prior $p(\\boldsymbol\\theta)$ is to discourage the parameters to attain extreme values, a sign that the model overfits. \n",
        "\n",
        "The prior allows us to specify a \"reasonable\" range of parameter values. \n",
        "\n",
        "Typically, we choose a Gaussian prior $\\mathcal N(\\boldsymbol 0, \\alpha^2\\boldsymbol I)$, centered at $\\boldsymbol 0$ with variance $\\alpha^2$ along each parameter dimension."
      ]
    },
    {
      "cell_type": "markdown",
      "metadata": {
        "id": "USQv7aJPtciJ",
        "colab_type": "text"
      },
      "source": [
        "The MAP estimate of the parameters is\n",
        "$$\n",
        "\\boldsymbol\\theta^{\\text{MAP}} = (\\boldsymbol\\Phi^T\\boldsymbol\\Phi + \\frac{\\sigma^2}{\\alpha^2}\\boldsymbol I)^{-1}\\boldsymbol\\Phi^T\\boldsymbol y\n",
        "$$\n",
        "where $\\sigma^2$ is the variance of the noise."
      ]
    },
    {
      "cell_type": "code",
      "metadata": {
        "id": "l42HfcwLtciK",
        "colab_type": "code",
        "colab": {}
      },
      "source": [
        "## TODO 12: EDIT THIS FUNCTION\n",
        "def map_estimate_poly(Phi, y, sigma, alpha):\n",
        "    # Phi: training inputs, Size of N x D\n",
        "    # y: training targets, Size of D x 1\n",
        "    # sigma: standard deviation of the noise \n",
        "    # alpha: standard deviation of the prior on the parameters\n",
        "    # returns: MAP estimate theta_map, Size of D x 1\n",
        "    \n",
        "    D = Phi.shape[1] \n",
        "    \n",
        "    #theta_map = np.zeros((D,1)) ## <-- EDIT THIS LINE    \n",
        "    theta_map = np.linalg.inv(((Phi.T)@Phi + ((sigma**2)/(alpha**2))*np.eye(D)))@(Phi.T)@y\n",
        "\n",
        "    #raise NotImplementedError\n",
        "    \n",
        "    return theta_map"
      ],
      "execution_count": 0,
      "outputs": []
    },
    {
      "cell_type": "code",
      "metadata": {
        "id": "Up2KNvgltciM",
        "colab_type": "code",
        "colab": {}
      },
      "source": [
        "# define the function we wish to estimate later\n",
        "def g(x, sigma):\n",
        "    p = np.hstack([x**0, x**1, np.sin(x)])\n",
        "    w = np.array([-1.0, 0.1, 1.0]).reshape(-1,1)\n",
        "    return p @ w + sigma*np.random.normal(size=x.shape) "
      ],
      "execution_count": 0,
      "outputs": []
    },
    {
      "cell_type": "code",
      "metadata": {
        "id": "E0aoY38ptciO",
        "colab_type": "code",
        "outputId": "9ffd048a-8200-4e04-924e-478419ac852f",
        "colab": {
          "base_uri": "https://localhost:8080/",
          "height": 279
        }
      },
      "source": [
        "# Generate some data\n",
        "sigma = 1.0 # noise standard deviation\n",
        "alpha = 1.0 # standard deviation of the parameter prior\n",
        "N = 20\n",
        "\n",
        "np.random.seed(42)\n",
        "\n",
        "X = (np.random.rand(N)*10.0 - 5.0).reshape(-1,1)\n",
        "y = g(X, sigma) # training targets\n",
        "\n",
        "plt.figure()\n",
        "plt.plot(X, y, '+')\n",
        "plt.xlabel(\"$x$\")\n",
        "plt.ylabel(\"$y$\");"
      ],
      "execution_count": 174,
      "outputs": [
        {
          "output_type": "display_data",
          "data": {
            "image/png": "[encoded data removed]",
            "text/plain": [
              "<Figure size 432x288 with 1 Axes>"
            ]
          },
          "metadata": {
            "tags": []
          }
        }
      ]
    },
    {
      "cell_type": "code",
      "metadata": {
        "id": "IBwOc2cptciQ",
        "colab_type": "code",
        "outputId": "9f0144bd-a873-4ea6-e92b-f6f28cfe903a",
        "colab": {
          "base_uri": "https://localhost:8080/",
          "height": 269
        }
      },
      "source": [
        "# get the MAP estimate\n",
        "K = 8 # polynomial degree   \n",
        "\n",
        "# feature matrix\n",
        "Phi = poly_features(X, K)\n",
        "\n",
        "theta_map = map_estimate_poly(Phi, y, sigma, alpha)\n",
        "\n",
        "# maximum likelihood estimate\n",
        "theta_ml = nonlinear_features_maximum_likelihood(Phi, y)\n",
        "\n",
        "Xtest = np.linspace(-5,5,100).reshape(-1,1)\n",
        "ytest = g(Xtest, sigma)\n",
        "\n",
        "Phi_test = poly_features(Xtest, K)\n",
        "y_pred_map = Phi_test @ theta_map\n",
        "y_pred_mle = Phi_test @ theta_ml\n",
        "\n",
        "plt.figure()\n",
        "plt.plot(X, y, '+')\n",
        "plt.plot(Xtest, y_pred_map)\n",
        "plt.plot(Xtest, g(Xtest, 0))\n",
        "plt.plot(Xtest, y_pred_mle)\n",
        "\n",
        "plt.legend([\"data\", \"map prediction\", \"ground truth function\", \"maximum likelihood\"]);"
      ],
      "execution_count": 175,
      "outputs": [
        {
          "output_type": "display_data",
          "data": {
            "image/png": "[encoded data removed]",
            "text/plain": [
              "<Figure size 432x288 with 1 Axes>"
            ]
          },
          "metadata": {
            "tags": []
          }
        }
      ]
    },
    {
      "cell_type": "code",
      "metadata": {
        "id": "mpHBIsrRtciT",
        "colab_type": "code",
        "outputId": "ec663ad9-7441-4c47-ee83-2bd275288cd5",
        "colab": {
          "base_uri": "https://localhost:8080/",
          "height": 175
        }
      },
      "source": [
        "print(np.hstack([theta_ml, theta_map]))"
      ],
      "execution_count": 176,
      "outputs": [
        {
          "output_type": "stream",
          "text": [
            "[[-1.49712990e+00 -1.08154986e+00]\n",
            " [ 8.56868912e-01  6.09177023e-01]\n",
            " [-1.28335730e-01 -3.62071208e-01]\n",
            " [-7.75319509e-02 -3.70531732e-03]\n",
            " [ 3.56425467e-02  7.43090617e-02]\n",
            " [-4.11626749e-03 -1.03278646e-02]\n",
            " [-2.48817783e-03 -4.89363010e-03]\n",
            " [ 2.70146690e-04  4.24148554e-04]\n",
            " [ 5.35996050e-05  1.03384719e-04]]\n"
          ],
          "name": "stdout"
        }
      ]
    },
    {
      "cell_type": "markdown",
      "metadata": {
        "id": "TJjMmnO3tciV",
        "colab_type": "text"
      },
      "source": [
        "Now, let us compute the RMSE on test data for different polynomial degrees and see whether the MAP estimate addresses the overfitting issue we encountered with the maximum likelihood estimate."
      ]
    },
    {
      "cell_type": "code",
      "metadata": {
        "id": "L-A5rxQmtciW",
        "colab_type": "code",
        "outputId": "dc2a3e56-046d-4d2a-8532-02cbb220663b",
        "colab": {
          "base_uri": "https://localhost:8080/",
          "height": 297
        }
      },
      "source": [
        "## TODO 13: EDIT THIS CELL\n",
        "\n",
        "K_max = 12 # this is the maximum degree of polynomial we will consider\n",
        "assert(K_max < N) # this is the latest point when we'll run into numerical problems\n",
        "\n",
        "rmse_mle = np.zeros((K_max+1,))\n",
        "rmse_map = np.zeros((K_max+1,))\n",
        "\n",
        "for k in range(K_max+1):   \n",
        "    #rmse_mle[k] = -1 ## EDIT THIS LINE : Compute the maximum likelihood estimator, compute the test-set predicitons, compute the RMSE\n",
        "    #rmse_map[k] = -1 ## EDIT THIS LINE : Compute the MAP estimator, compute the test-set predicitons, compute the RMSE\n",
        "    Phi = poly_features(X, k)\n",
        "    Phi_test = poly_features(Xtest, k)\n",
        "    theta_ml = nonlinear_features_maximum_likelihood(Phi, y) \n",
        "    ypred_ml = Phi_test@theta_ml\n",
        "    rmse_mle[k] = RMSE(ytest, ypred_ml)\n",
        "    theta_map = map_estimate_poly(Phi, y, sigma, alpha)\n",
        "    ypred_map = Phi_test@theta_map\n",
        "    rmse_map[k] = RMSE(ytest, ypred_map)\n",
        "\n",
        "#raise NotImplementedError\n",
        "\n",
        "plt.figure()\n",
        "plt.semilogy(rmse_mle) # this plots the RMSE on a logarithmic scale\n",
        "plt.semilogy(rmse_map) # this plots the RMSE on a logarithmic scale\n",
        "plt.xlabel(\"degree of polynomial\")\n",
        "plt.ylabel(\"RMSE\")\n",
        "plt.legend([\"Maximum likelihood\", \"MAP\"])"
      ],
      "execution_count": 177,
      "outputs": [
        {
          "output_type": "execute_result",
          "data": {
            "text/plain": [
              "<matplotlib.legend.Legend at 0x7f2c0c9f3fd0>"
            ]
          },
          "metadata": {
            "tags": []
          },
          "execution_count": 177
        },
        {
          "output_type": "display_data",
          "data": {
            "image/png": "[encoded data removed]",
            "text/plain": [
              "<Figure size 432x288 with 1 Axes>"
            ]
          },
          "metadata": {
            "tags": []
          }
        }
      ]
    },
    {
      "cell_type": "markdown",
      "metadata": {
        "id": "cfPxemo6tciY",
        "colab_type": "text"
      },
      "source": [
        "**Question 8**\n",
        "\n",
        "Q8-1. What do you observe?\n",
        "\n",
        "Q8-2. What is the influence of the prior variance on the parameters ($\\alpha^2$)? Change the parameter and describe what happens."
      ]
    },
    {
      "cell_type": "markdown",
      "metadata": {
        "id": "PmIyie6QtNmQ",
        "colab_type": "text"
      },
      "source": [
        "**Answers 8**\n",
        "\n",
        "Q8-1. I observed the difference between MLE and MAP.\n",
        "\n",
        "Q8-2. If the value of alpha become larger, the graph of MAP converges to the graph of MLE. The reason is (sigma^2/alpha^2) converges to 0 when alpha is getting larger."
      ]
    },
    {
      "cell_type": "markdown",
      "metadata": {
        "id": "qnn64UHbtciZ",
        "colab_type": "text"
      },
      "source": [
        "## 3. Bayesian Linear Regression"
      ]
    },
    {
      "cell_type": "code",
      "metadata": {
        "id": "q14QKnS7tcia",
        "colab_type": "code",
        "colab": {}
      },
      "source": [
        "# Test inputs\n",
        "Ntest = 200\n",
        "Xtest = np.linspace(-5, 5, Ntest).reshape(-1,1) # test inputs\n",
        "\n",
        "prior_var = 0.25 # variance of the parameter prior (alpha^2). We assume this is known.\n",
        "noise_var = 1.0 # noise variance (sigma^2). We assume this is known.\n",
        "\n",
        "pol_deg = 5 # degree of the polynomial we consider at the moment"
      ],
      "execution_count": 0,
      "outputs": []
    },
    {
      "cell_type": "markdown",
      "metadata": {
        "id": "YM1YTiX7tcic",
        "colab_type": "text"
      },
      "source": [
        "Assume a parameter prior $p(\\boldsymbol\\theta) = \\mathcal N (\\boldsymbol 0, \\alpha^2\\boldsymbol I)$. For every test input $\\boldsymbol x_*$ we obtain the \n",
        "prior mean\n",
        "$$\n",
        "E[f(\\boldsymbol x_*)] = 0\n",
        "$$\n",
        "and the prior (marginal) variance (ignoring the noise contribution)\n",
        "$$\n",
        "V[f(\\boldsymbol x_*)] = \\alpha^2\\boldsymbol\\phi(\\boldsymbol x_*) \\boldsymbol\\phi(\\boldsymbol x_*)^\\top\n",
        "$$\n",
        "where $\\boldsymbol\\phi(\\cdot)$ is the feature map."
      ]
    },
    {
      "cell_type": "code",
      "metadata": {
        "id": "wUzOOaKmtcie",
        "colab_type": "code",
        "outputId": "93e3be51-5c5b-4000-ab98-e3b7e583f3c5",
        "colab": {
          "base_uri": "https://localhost:8080/",
          "height": 295
        }
      },
      "source": [
        "## TODO 14: EDIT THIS CELL\n",
        "\n",
        "# compute the feature matrix for the test inputs\n",
        "#Phi_test = np.zeros((Ntest, pol_deg+1))  # N x (pol_deg+1) feature matrix <--- EDIT THIS LINE\n",
        "Phi_test = poly_features(Xtest, pol_deg)\n",
        "# compute the (marginal) prior at the test input locations\n",
        "# prior mean\n",
        "#prior_mean = np.ones((Ntest,1))  # prior mean at test inputs (size: (Ntest,1)) <-- EDIT THIS LINE\n",
        "prior_mean = np.zeros((Ntest, 1))\n",
        "#raise NotImplementedError\n",
        "\n",
        "# prior variance\n",
        "#full_covariance = np.zeros((Ntest, Ntest)) # N x N covariance matrix of all function values <-- EDIT THIS LINE\n",
        "full_covariance = prior_var*Phi_test@(Phi_test.T)\n",
        "#prior_marginal_var = 0 # marginal of size (N, )\n",
        "prior_marginal_var = np.zeros((Ntest, 1))\n",
        "for i in range(Ntest):\n",
        "  prior_marginal_var[i][0] = full_covariance[i][i]\n",
        "#raise NotImplementedError\n",
        "\n",
        "# Let us visualize the prior over functions\n",
        "plt.figure()\n",
        "plt.plot(Xtest, prior_mean, color=\"k\")\n",
        "\n",
        "conf_bound1 = np.sqrt(prior_marginal_var).flatten()\n",
        "conf_bound2 = 2.0*np.sqrt(prior_marginal_var).flatten()\n",
        "conf_bound3 = 2.0*np.sqrt(prior_marginal_var + noise_var).flatten()\n",
        "plt.fill_between(Xtest.flatten(), prior_mean.flatten() + conf_bound1, \n",
        "             prior_mean.flatten() - conf_bound1, alpha = 0.1, color=\"k\")\n",
        "plt.fill_between(Xtest.flatten(), prior_mean.flatten() + conf_bound2, \n",
        "                 prior_mean.flatten() - conf_bound2, alpha = 0.1, color=\"k\")\n",
        "plt.fill_between(Xtest.flatten(), prior_mean.flatten() + conf_bound3, \n",
        "                 prior_mean.flatten() - conf_bound3, alpha = 0.1, color=\"k\")\n",
        "\n",
        "plt.xlabel('$x$')\n",
        "plt.ylabel('$y$')\n",
        "plt.title(\"Prior over functions\");"
      ],
      "execution_count": 179,
      "outputs": [
        {
          "output_type": "display_data",
          "data": {
            "image/png": "[encoded data removed]",
            "text/plain": [
              "<Figure size 432x288 with 1 Axes>"
            ]
          },
          "metadata": {
            "tags": []
          }
        }
      ]
    },
    {
      "cell_type": "markdown",
      "metadata": {
        "id": "nghyGtAotcih",
        "colab_type": "text"
      },
      "source": [
        "Now, we will use this prior distribution and sample functions from it."
      ]
    },
    {
      "cell_type": "code",
      "metadata": {
        "id": "NXRMhi_mtcih",
        "colab_type": "code",
        "outputId": "438877d7-fbdf-4990-a212-2a5fa7d374de",
        "colab": {
          "base_uri": "https://localhost:8080/",
          "height": 298
        }
      },
      "source": [
        "## TODO 15: EDIT THIS CELL\n",
        "\n",
        "# samples from the prior\n",
        "num_samples = 10\n",
        "\n",
        "# We first need to generate random weights theta_i, which we sample from the parameter prior\n",
        "random_weights = np.random.normal(size=(pol_deg+1,num_samples), scale=np.sqrt(prior_var))\n",
        "\n",
        "# Now, we compute the induced random functions, evaluated at the test input locations\n",
        "# Every function sample is given as f_i = Phi * theta_i, \n",
        "# where theta_i is a sample from the parameter prior\n",
        "\n",
        "# sample_function = np.zeros((Ntest,)) # <-- EDIT THIS LINE\n",
        "sample_function = Phi_test@random_weights\n",
        "#raise NotImplementedError\n",
        "\n",
        "plt.figure()\n",
        "plt.plot(Xtest, sample_function, color=\"r\")\n",
        "plt.title(\"Plausible functions under the prior\")\n",
        "print(\"Every sampled function is a polynomial of degree \"+str(pol_deg));"
      ],
      "execution_count": 180,
      "outputs": [
        {
          "output_type": "stream",
          "text": [
            "Every sampled function is a polynomial of degree 5\n"
          ],
          "name": "stdout"
        },
        {
          "output_type": "display_data",
          "data": {
            "image/png": "[encoded data removed]",
            "text/plain": [
              "<Figure size 432x288 with 1 Axes>"
            ]
          },
          "metadata": {
            "tags": []
          }
        }
      ]
    },
    {
      "cell_type": "markdown",
      "metadata": {
        "id": "7jue8I1ptcij",
        "colab_type": "text"
      },
      "source": [
        "Now we are given some training inputs $\\boldsymbol x_1, \\dotsc, \\boldsymbol x_N$, which we collect in a matrix $\\boldsymbol X = [\\boldsymbol x_1, \\dotsc, \\boldsymbol x_N]^\\top\\in\\mathbb{R}^{N\\times D}$"
      ]
    },
    {
      "cell_type": "code",
      "metadata": {
        "id": "hlatA5KItcij",
        "colab_type": "code",
        "colab": {}
      },
      "source": [
        "N = 10\n",
        "X = np.random.uniform(high=5, low=-5, size=(N,1)) # training inputs, size Nx1\n",
        "y = g(X, np.sqrt(noise_var)) # training targets, size Nx1"
      ],
      "execution_count": 0,
      "outputs": []
    },
    {
      "cell_type": "markdown",
      "metadata": {
        "id": "Z6yzZoI9tcim",
        "colab_type": "text"
      },
      "source": [
        "Now, let us compute the posterior "
      ]
    },
    {
      "cell_type": "code",
      "metadata": {
        "id": "3MIqmSXDtcim",
        "colab_type": "code",
        "colab": {}
      },
      "source": [
        "## TODO 16: EDIT THIS FUNCTION\n",
        "def polyfit(X, y, K, prior_var, noise_var):\n",
        "    # X: training inputs, size N x D\n",
        "    # y: training targets, size N x 1\n",
        "    # K: degree of polynomial we consider\n",
        "    # prior_var: prior variance of the parameter distribution\n",
        "    # sigma: noise variance    \n",
        "    jitter = 1e-08 # increases numerical stability\n",
        "    N = X.shape[0]\n",
        "    \n",
        "    Phi = poly_features(X, K) # N x (K+1) feature matrix     \n",
        "    \n",
        "    # Compute maximum likelihood estimate\n",
        "    #theta_ml = np.zeros((K+1,1)) # <-- EDIT THIS LINE         \n",
        "    theta_ml = nonlinear_features_maximum_likelihood(Phi, y)\n",
        "\n",
        "    # MAP estimate\n",
        "    #theta_map = np.zeros((K+1,1)) # <-- EDIT THIS LINE     \n",
        "    theta_map = map_estimate_poly(Phi, y, noise_var**(0.5), prior_var**(0.5))\n",
        "\n",
        "    # Parameter posterior\n",
        "    #SN = np.zeros(K+1) # covariance matrix of the parameter posterior # <-- EDIT THIS LINE     \n",
        "    inv_S0 = np.linalg.inv(prior_var*(np.eye(K + 1)))\n",
        "    SN = np.linalg.inv(inv_S0 + (1/noise_var)*(Phi.T)@Phi)\n",
        "    #mN = np.zeros((K+1,1)) # mean vector of the parameter posterior   # <-- EDIT THIS LINE     \n",
        "    mN = SN@((1/noise_var)*(Phi.T)@y)\n",
        "\n",
        "    return (theta_ml, theta_map, mN, SN)"
      ],
      "execution_count": 0,
      "outputs": []
    },
    {
      "cell_type": "code",
      "metadata": {
        "id": "ihy99GGGtciq",
        "colab_type": "code",
        "colab": {}
      },
      "source": [
        "theta_ml, theta_map, theta_mean, theta_var = polyfit(X, y, pol_deg, alpha, sigma)"
      ],
      "execution_count": 0,
      "outputs": []
    },
    {
      "cell_type": "markdown",
      "metadata": {
        "id": "WPLc1tBttcir",
        "colab_type": "text"
      },
      "source": [
        "Now, let's make predictions (ignoring the measurement noise).\n",
        " \n",
        "We obtain three predictors:\n",
        "\n",
        "\\begin{align}\n",
        "&\\text{Maximum likelihood: }E[f(\\boldsymbol X_{\\text{test}})] = \\boldsymbol \\phi(X_{\\text{test}})\\boldsymbol \\theta_{ml}\\\\\n",
        "&\\text{Maximum a posteriori: } E[f(\\boldsymbol X_{\\text{test}})] = \\boldsymbol \\phi(X_{\\text{test}})\\boldsymbol \\theta_{map}\\\\\n",
        "&\\text{Bayesian: } p(f(\\boldsymbol X_{\\text{test}})) = \\mathcal N(f(\\boldsymbol X_{\\text{test}}) \\,|\\, \\boldsymbol \\phi(X_{\\text{test}}) \\boldsymbol\\theta_{\\text{mean}},\\, \\boldsymbol\\phi(X_{\\text{test}}) \\boldsymbol\\theta_{\\text{var}}  \\boldsymbol\\phi(X_{\\text{test}})^\\top)\n",
        "\\end{align}\n",
        "\n",
        "We already computed all quantities. Write some code that implements all three predictors."
      ]
    },
    {
      "cell_type": "code",
      "metadata": {
        "id": "ZY2PXNMFtcis",
        "colab_type": "code",
        "colab": {}
      },
      "source": [
        "##  TODO 17: EDIT THIS CELL\n",
        "\n",
        "# predictions (ignoring the measurement/observations noise)\n",
        "K = 5\n",
        "Phi_test = poly_features(Xtest, K)\n",
        "                    \n",
        "# maximum likelihood predictions (just the mean)\n",
        "#m_mle_test = np.zeros((Ntest,1)) # <-- EDIT THIS LINE\n",
        "m_mle_test = Phi_test@theta_ml\n",
        "\n",
        "# MAP predictions (just the mean)\n",
        "#m_map_test = np.zeros((Ntest,1)) # <-- EDIT THIS LINE\n",
        "m_map_test = Phi_test@theta_map\n",
        "\n",
        "# predictive distribution (Bayesian linear regression)\n",
        "# mean prediction\n",
        "#mean_blr = np.zeros((Ntest,1)) # <-- EDIT THIS LINE\n",
        "mean_blr = Phi_test@theta_mean\n",
        "\n",
        "# variance prediction\n",
        "#cov_blr =  np.ones((Ntest,Ntest)) # <-- EDIT THIS LINE\n",
        "cov_blr = Phi_test@theta_var@(Phi_test.T)\n",
        "\n",
        "#raise NotImplementedError"
      ],
      "execution_count": 0,
      "outputs": []
    },
    {
      "cell_type": "code",
      "metadata": {
        "id": "J--GBar-tciu",
        "colab_type": "code",
        "outputId": "470490f5-d953-4076-b6ed-78c26b737faa",
        "colab": {
          "base_uri": "https://localhost:8080/",
          "height": 279
        }
      },
      "source": [
        "# plot the posterior\n",
        "plt.figure()\n",
        "plt.plot(X, y, \"+\")\n",
        "plt.plot(Xtest, m_mle_test)\n",
        "plt.plot(Xtest, m_map_test)\n",
        "\n",
        "var_blr = np.diag(cov_blr)\n",
        "conf_bound1 = np.sqrt(var_blr).flatten()\n",
        "conf_bound2 = 2.0*np.sqrt(var_blr).flatten()\n",
        "conf_bound3 = 2.0*np.sqrt(var_blr + sigma).flatten()\n",
        "\n",
        "plt.plot(Xtest, mean_blr)\n",
        "plt.fill_between(Xtest.flatten(), mean_blr.flatten() + conf_bound1, \n",
        "                 mean_blr.flatten() - conf_bound1, alpha = 0.1, color=\"k\")\n",
        "plt.fill_between(Xtest.flatten(), mean_blr.flatten() + conf_bound2, \n",
        "                 mean_blr.flatten() - conf_bound2, alpha = 0.1, color=\"k\")\n",
        "plt.fill_between(Xtest.flatten(), mean_blr.flatten() + conf_bound3, \n",
        "                 mean_blr.flatten() - conf_bound3, alpha = 0.1, color=\"k\")\n",
        "plt.legend([\"Training data\", \"MLE\", \"MAP\", \"BLR_mean\", \"BLR_var\"])\n",
        "plt.xlabel('$x$');\n",
        "plt.ylabel('$y$');"
      ],
      "execution_count": 185,
      "outputs": [
        {
          "output_type": "display_data",
          "data": {
            "image/png": "[encoded data removed]",
            "text/plain": [
              "<Figure size 432x288 with 1 Axes>"
            ]
          },
          "metadata": {
            "tags": []
          }
        }
      ]
    },
    {
      "cell_type": "markdown",
      "metadata": {
        "id": "9R_Z4OVLtgK6",
        "colab_type": "text"
      },
      "source": [
        "## Finish!"
      ]
    }
  ]
}