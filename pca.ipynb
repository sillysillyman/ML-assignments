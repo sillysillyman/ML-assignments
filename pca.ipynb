{
  "nbformat": 4,
  "nbformat_minor": 0,
  "metadata": {
    "coursera": {
      "course_slug": "mathematics-machine-learning-pca",
      "graded_item_id": "CXC11",
      "launcher_item_id": "ub5A7"
    },
    "kernelspec": {
      "display_name": "Python 3",
      "language": "python",
      "name": "python3"
    },
    "language_info": {
      "codemirror_mode": {
        "name": "ipython",
        "version": 3
      },
      "file_extension": ".py",
      "mimetype": "text/x-python",
      "name": "python",
      "nbconvert_exporter": "python",
      "pygments_lexer": "ipython3",
      "version": "3.7.3"
    },
    "colab": {
      "name": "HW2_student.ipynb의 사본",
      "provenance": [],
      "collapsed_sections": []
    },
    "widgets": {
      "application/vnd.jupyter.widget-state+json": {
        "9f0a86216a094d979d792c47d7c84584": {
          "model_module": "@jupyter-widgets/controls",
          "model_name": "VBoxModel",
          "state": {
            "_view_name": "VBoxView",
            "_dom_classes": [
              "widget-interact"
            ],
            "_model_name": "VBoxModel",
            "_view_module": "@jupyter-widgets/controls",
            "_model_module_version": "1.5.0",
            "_view_count": null,
            "_view_module_version": "1.5.0",
            "box_style": "",
            "layout": "IPY_MODEL_7ea33403af3e4279a4d628a4cb792e55",
            "_model_module": "@jupyter-widgets/controls",
            "children": [
              "IPY_MODEL_529ad48844ad4c0293df284dc298fd8d",
              "IPY_MODEL_8a816884fcdc4005b705a7c002f33d41"
            ]
          }
        },
        "7ea33403af3e4279a4d628a4cb792e55": {
          "model_module": "@jupyter-widgets/base",
          "model_name": "LayoutModel",
          "state": {
            "_view_name": "LayoutView",
            "grid_template_rows": null,
            "right": null,
            "justify_content": null,
            "_view_module": "@jupyter-widgets/base",
            "overflow": null,
            "_model_module_version": "1.2.0",
            "_view_count": null,
            "flex_flow": null,
            "width": null,
            "min_width": null,
            "border": null,
            "align_items": null,
            "bottom": null,
            "_model_module": "@jupyter-widgets/base",
            "top": null,
            "grid_column": null,
            "overflow_y": null,
            "overflow_x": null,
            "grid_auto_flow": null,
            "grid_area": null,
            "grid_template_columns": null,
            "flex": null,
            "_model_name": "LayoutModel",
            "justify_items": null,
            "grid_row": null,
            "max_height": null,
            "align_content": null,
            "visibility": null,
            "align_self": null,
            "height": null,
            "min_height": null,
            "padding": null,
            "grid_auto_rows": null,
            "grid_gap": null,
            "max_width": null,
            "order": null,
            "_view_module_version": "1.2.0",
            "grid_template_areas": null,
            "object_position": null,
            "object_fit": null,
            "grid_auto_columns": null,
            "margin": null,
            "display": null,
            "left": null
          }
        },
        "529ad48844ad4c0293df284dc298fd8d": {
          "model_module": "@jupyter-widgets/controls",
          "model_name": "IntSliderModel",
          "state": {
            "_view_name": "IntSliderView",
            "style": "IPY_MODEL_133a71dd540e4b1aaa4219686d1e6512",
            "_dom_classes": [],
            "description": "image_idx",
            "step": 1,
            "_model_name": "IntSliderModel",
            "orientation": "horizontal",
            "max": 1000,
            "_view_module": "@jupyter-widgets/controls",
            "_model_module_version": "1.5.0",
            "value": 500,
            "_view_count": null,
            "disabled": false,
            "_view_module_version": "1.5.0",
            "min": 0,
            "continuous_update": true,
            "readout_format": "d",
            "description_tooltip": null,
            "readout": true,
            "_model_module": "@jupyter-widgets/controls",
            "layout": "IPY_MODEL_933a4f771550471a94bd72f2a328f666"
          }
        },
        "8a816884fcdc4005b705a7c002f33d41": {
          "model_module": "@jupyter-widgets/output",
          "model_name": "OutputModel",
          "state": {
            "_view_name": "OutputView",
            "msg_id": "",
            "_dom_classes": [],
            "_model_name": "OutputModel",
            "outputs": [
              {
                "output_type": "display_data",
                "metadata": {
                  "tags": []
                },
                "image/png": "iVBORw0KGgoAAAANSUhEUgAABQMAAACaCAYAAAAdFl52AAAABHNCSVQICAgIfAhkiAAAAAlwSFlz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\n",
                "text/plain": "<Figure size 1440x1440 with 1 Axes>"
              }
            ],
            "_view_module": "@jupyter-widgets/output",
            "_model_module_version": "1.0.0",
            "_view_count": null,
            "_view_module_version": "1.0.0",
            "layout": "IPY_MODEL_b959b8aa735846a08cb236fc6ebc3c43",
            "_model_module": "@jupyter-widgets/output"
          }
        },
        "133a71dd540e4b1aaa4219686d1e6512": {
          "model_module": "@jupyter-widgets/controls",
          "model_name": "SliderStyleModel",
          "state": {
            "_view_name": "StyleView",
            "handle_color": null,
            "_model_name": "SliderStyleModel",
            "description_width": "",
            "_view_module": "@jupyter-widgets/base",
            "_model_module_version": "1.5.0",
            "_view_count": null,
            "_view_module_version": "1.2.0",
            "_model_module": "@jupyter-widgets/controls"
          }
        },
        "933a4f771550471a94bd72f2a328f666": {
          "model_module": "@jupyter-widgets/base",
          "model_name": "LayoutModel",
          "state": {
            "_view_name": "LayoutView",
            "grid_template_rows": null,
            "right": null,
            "justify_content": null,
            "_view_module": "@jupyter-widgets/base",
            "overflow": null,
            "_model_module_version": "1.2.0",
            "_view_count": null,
            "flex_flow": null,
            "width": null,
            "min_width": null,
            "border": null,
            "align_items": null,
            "bottom": null,
            "_model_module": "@jupyter-widgets/base",
            "top": null,
            "grid_column": null,
            "overflow_y": null,
            "overflow_x": null,
            "grid_auto_flow": null,
            "grid_area": null,
            "grid_template_columns": null,
            "flex": null,
            "_model_name": "LayoutModel",
            "justify_items": null,
            "grid_row": null,
            "max_height": null,
            "align_content": null,
            "visibility": null,
            "align_self": null,
            "height": null,
            "min_height": null,
            "padding": null,
            "grid_auto_rows": null,
            "grid_gap": null,
            "max_width": null,
            "order": null,
            "_view_module_version": "1.2.0",
            "grid_template_areas": null,
            "object_position": null,
            "object_fit": null,
            "grid_auto_columns": null,
            "margin": null,
            "display": null,
            "left": null
          }
        },
        "2fbd07abc67b4df297757f65136c4386": {
          "model_module": "@jupyter-widgets/controls",
          "model_name": "VBoxModel",
          "state": {
            "_view_name": "VBoxView",
            "_dom_classes": [
              "widget-interact"
            ],
            "_model_name": "VBoxModel",
            "_view_module": "@jupyter-widgets/controls",
            "_model_module_version": "1.5.0",
            "_view_count": null,
            "_view_module_version": "1.5.0",
            "box_style": "",
            "layout": "IPY_MODEL_238fa497f68049069f3e70621dfc7fd9",
            "_model_module": "@jupyter-widgets/controls",
            "children": [
              "IPY_MODEL_456e047193394b6d8d568b2652a1b3f7",
              "IPY_MODEL_396358eb443f4b469c16624041629772"
            ]
          }
        },
        "238fa497f68049069f3e70621dfc7fd9": {
          "model_module": "@jupyter-widgets/base",
          "model_name": "LayoutModel",
          "state": {
            "_view_name": "LayoutView",
            "grid_template_rows": null,
            "right": null,
            "justify_content": null,
            "_view_module": "@jupyter-widgets/base",
            "overflow": null,
            "_model_module_version": "1.2.0",
            "_view_count": null,
            "flex_flow": null,
            "width": null,
            "min_width": null,
            "border": null,
            "align_items": null,
            "bottom": null,
            "_model_module": "@jupyter-widgets/base",
            "top": null,
            "grid_column": null,
            "overflow_y": null,
            "overflow_x": null,
            "grid_auto_flow": null,
            "grid_area": null,
            "grid_template_columns": null,
            "flex": null,
            "_model_name": "LayoutModel",
            "justify_items": null,
            "grid_row": null,
            "max_height": null,
            "align_content": null,
            "visibility": null,
            "align_self": null,
            "height": null,
            "min_height": null,
            "padding": null,
            "grid_auto_rows": null,
            "grid_gap": null,
            "max_width": null,
            "order": null,
            "_view_module_version": "1.2.0",
            "grid_template_areas": null,
            "object_position": null,
            "object_fit": null,
            "grid_auto_columns": null,
            "margin": null,
            "display": null,
            "left": null
          }
        },
        "456e047193394b6d8d568b2652a1b3f7": {
          "model_module": "@jupyter-widgets/controls",
          "model_name": "IntSliderModel",
          "state": {
            "_view_name": "IntSliderView",
            "style": "IPY_MODEL_4ca2d99d45b74a06b7b51d5e451bd57e",
            "_dom_classes": [],
            "description": "i",
            "step": 1,
            "_model_name": "IntSliderModel",
            "orientation": "horizontal",
            "max": 10,
            "_view_module": "@jupyter-widgets/controls",
            "_model_module_version": "1.5.0",
            "value": 1,
            "_view_count": null,
            "disabled": false,
            "_view_module_version": "1.5.0",
            "min": 0,
            "continuous_update": true,
            "readout_format": "d",
            "description_tooltip": null,
            "readout": true,
            "_model_module": "@jupyter-widgets/controls",
            "layout": "IPY_MODEL_69571b413c2e461186503826c4420fca"
          }
        },
        "396358eb443f4b469c16624041629772": {
          "model_module": "@jupyter-widgets/output",
          "model_name": "OutputModel",
          "state": {
            "_view_name": "OutputView",
            "msg_id": "",
            "_dom_classes": [],
            "_model_name": "OutputModel",
            "outputs": [
              {
                "output_type": "display_data",
                "metadata": {
                  "tags": []
                },
                "image/png": "iVBORw0KGgoAAAANSUhEUgAAARkAAACaCAYAAACdQzzVAAAABHNCSVQICAgIfAhkiAAAAAlwSFlz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\n",
                "text/plain": "<Figure size 288x288 with 1 Axes>"
              }
            ],
            "_view_module": "@jupyter-widgets/output",
            "_model_module_version": "1.0.0",
            "_view_count": null,
            "_view_module_version": "1.0.0",
            "layout": "IPY_MODEL_5a86db87abb04184ba6bf2242f6b6af3",
            "_model_module": "@jupyter-widgets/output"
          }
        },
        "4ca2d99d45b74a06b7b51d5e451bd57e": {
          "model_module": "@jupyter-widgets/controls",
          "model_name": "SliderStyleModel",
          "state": {
            "_view_name": "StyleView",
            "handle_color": null,
            "_model_name": "SliderStyleModel",
            "description_width": "",
            "_view_module": "@jupyter-widgets/base",
            "_model_module_version": "1.5.0",
            "_view_count": null,
            "_view_module_version": "1.2.0",
            "_model_module": "@jupyter-widgets/controls"
          }
        },
        "69571b413c2e461186503826c4420fca": {
          "model_module": "@jupyter-widgets/base",
          "model_name": "LayoutModel",
          "state": {
            "_view_name": "LayoutView",
            "grid_template_rows": null,
            "right": null,
            "justify_content": null,
            "_view_module": "@jupyter-widgets/base",
            "overflow": null,
            "_model_module_version": "1.2.0",
            "_view_count": null,
            "flex_flow": null,
            "width": null,
            "min_width": null,
            "border": null,
            "align_items": null,
            "bottom": null,
            "_model_module": "@jupyter-widgets/base",
            "top": null,
            "grid_column": null,
            "overflow_y": null,
            "overflow_x": null,
            "grid_auto_flow": null,
            "grid_area": null,
            "grid_template_columns": null,
            "flex": null,
            "_model_name": "LayoutModel",
            "justify_items": null,
            "grid_row": null,
            "max_height": null,
            "align_content": null,
            "visibility": null,
            "align_self": null,
            "height": null,
            "min_height": null,
            "padding": null,
            "grid_auto_rows": null,
            "grid_gap": null,
            "max_width": null,
            "order": null,
            "_view_module_version": "1.2.0",
            "grid_template_areas": null,
            "object_position": null,
            "object_fit": null,
            "grid_auto_columns": null,
            "margin": null,
            "display": null,
            "left": null
          }
        }
      }
    }
  },
  "cells": [
    {
      "cell_type": "markdown",
      "metadata": {
        "id": "LXgmmfyCzml5",
        "colab_type": "text"
      },
      "source": [
        "# [CS376] Homework 2. PCA\n",
        "\n",
        "- TA : Donghoon Ham (dhham@ai.kaist.ac.kr), Jaehong Yoon (jaehong.yoon93@gmail.com)\n",
        "- Due Date : 15th Dec, 23:59 (**Any late submissions will not be accepted.**)\n",
        "- Office Hour : E3-1 2443, Tues 18:30~21:30 \n",
        "- Skeleton codes for this homework are based on tutorial code for textbook written by Marc Deisenroth. \n",
        "- If you're not familar with Google colab or Jupyter notebook, contact TAs in e-mail or come TA office hour on tuesday to get our help.\n",
        "\n",
        "\n"
      ]
    },
    {
      "cell_type": "markdown",
      "metadata": {
        "id": "oEPOmOVs9Pz5",
        "colab_type": "text"
      },
      "source": [
        "## README\n",
        "\n",
        "This notebook file is *incomplete* at the first time, so you should implement some code cells for this homework.\n",
        "\n",
        "In addition, you should write answers for given questions.\n",
        "\n",
        "In HW2, you should submit following file:\n",
        "- `hw2.ipynb`: a **completed** version of this IPython notebook. \n",
        "  - You should **implement total 5 python code cells (which are marked as TODO)** and **exercise problem** for given questions. \n",
        "  - Every code cell should be working and leave outputs when you submit HW.\n",
        "  - To avoid cheating, **comment out each piece of code in detail**.\n",
        "  - **Do NOT clear** your outputs (ex. plots, outputs, etc.).  \n",
        "\n",
        "After finishing the homework, please submit this file to **Homework 2 section in KLMS**.\n",
        "\n",
        "\n",
        "\n",
        "### Instructions\n",
        "- First of all, you should copy the original Colab notebook into your Google drive.\n",
        "  - Sign in Google.\n",
        "  - Click `File` in the left top on menu and select `Save a copy in Drive..`.\n",
        "- Then you can edit your copied notebook in Google Colab!\n",
        "  - Fill in the `TODO` marked part to run appropriately. \n",
        "  - Each code cell will be executed when you click the play button left side of the cell (or press `Ctrl+Enter`).\n",
        "- Download your copied notebook file (`.ipynb` file) to your local and rename it as `hw2.ipynb`.\n",
        "- Upload the file (`hw2.ipynb`) to KLMS Homework 1 section.\n",
        "\n",
        "##<font color=red>**[IMPORTANT]**</font>\n",
        "\n",
        "**Please submit the notebook file (without compressing) with the name like below:**\n",
        "\n",
        "**HW2_StudentID.ipynb**\n",
        "\n",
        "**ex) HW2_20191234.ipynb**\n",
        "\n",
        "<font color=red>**If you do not follow this format, you may be penalized.**</font>\n",
        "\n",
        "### Q&A Policies\n",
        "- If you think your question is important for every student, make your question about HW as a comment on the code cell block in [the original notebook](https://colab.research.google.com/drive/1Ye7fnZ3PZl2REidUhWT0aNWGDYzEPVJb), not your copy.\n",
        "- If you want to ask some questions about your code, contact TAs in e-mail or come TA office hour.\n",
        "\n",
        "\n",
        "\n",
        "---\n",
        "\n",
        "\n"
      ]
    },
    {
      "cell_type": "markdown",
      "metadata": {
        "id": "kPxAG0m7zml7",
        "colab_type": "text"
      },
      "source": [
        "## 0. Prerequisites\n",
        "\n",
        "You can use following packages in this HW:\n",
        "\n",
        "1. Write code that implements PCA.\n",
        "2. Write code that implements PCA for high-dimensional datasets\n",
        "3. Visuallize PCA results."
      ]
    },
    {
      "cell_type": "markdown",
      "metadata": {
        "id": "QKyOrrQPzml8",
        "colab_type": "text"
      },
      "source": [
        "Let's first import the packages we need for this HW\n",
        "\n",
        "**You can only use Numpy library for implement these questions**"
      ]
    },
    {
      "cell_type": "code",
      "metadata": {
        "id": "u3cxWyeIzml8",
        "colab_type": "code",
        "colab": {}
      },
      "source": [
        "# PACKAGE: DO NOT EDIT THIS CELL\n",
        "import numpy as np\n",
        "import timeit\n",
        "import matplotlib as mpl\n",
        "mpl.use('Agg')\n",
        "import matplotlib.pyplot as plt\n",
        "plt.style.use('fivethirtyeight')\n",
        "from ipywidgets import interact\n",
        "from sklearn.datasets import fetch_mldata"
      ],
      "execution_count": 0,
      "outputs": []
    },
    {
      "cell_type": "code",
      "metadata": {
        "id": "y_j_EfyNzmmA",
        "colab_type": "code",
        "colab": {}
      },
      "source": [
        "# PACKAGE: DO NOT EDIT THIS CELL\n",
        "from sklearn.datasets import fetch_openml\n",
        "images, labels = fetch_openml('mnist_784', version=1, return_X_y=True)"
      ],
      "execution_count": 0,
      "outputs": []
    },
    {
      "cell_type": "code",
      "metadata": {
        "id": "84gKk1nwzmmC",
        "colab_type": "code",
        "colab": {}
      },
      "source": [
        "%matplotlib inline"
      ],
      "execution_count": 0,
      "outputs": []
    },
    {
      "cell_type": "markdown",
      "metadata": {
        "id": "o1YnGj24zmmF",
        "colab_type": "text"
      },
      "source": [
        "Now, let's plot a digit from the dataset:"
      ]
    },
    {
      "cell_type": "code",
      "metadata": {
        "id": "YvRmZkMOzmmG",
        "colab_type": "code",
        "colab": {
          "base_uri": "https://localhost:8080/",
          "height": 262
        },
        "outputId": "af4c4be4-d8fb-47dc-b702-4ebe1b614812"
      },
      "source": [
        "plt.figure(figsize=(4,4))\n",
        "plt.imshow(images[0].reshape(28,28), cmap='gray');"
      ],
      "execution_count": 202,
      "outputs": [
        {
          "output_type": "display_data",
          "data": {
            "image/png": "[encoded data removed]",
            "text/plain": [
              "<Figure size 288x288 with 1 Axes>"
            ]
          },
          "metadata": {
            "tags": []
          }
        }
      ]
    },
    {
      "cell_type": "markdown",
      "metadata": {
        "id": "ucIhX4dlzmmJ",
        "colab_type": "text"
      },
      "source": [
        "Before we implement PCA, we will need to do some data preprocessing. In this assessment, some of them \n",
        "will be implemented by you, others we will take care of. However, when you are working on real world problems, you will need to do all these steps by yourself.\n",
        "\n",
        "The preprocessing steps we will do are\n",
        "1. Convert unsigned interger 8 (uint8) encoding of pixels to a floating point number between 0 and 1.\n",
        "2. Subtract from each image the mean $\\boldsymbol \\mu$.\n",
        "3. Scale each dimension of each image by $\\frac{1}{\\sigma}$ where $\\sigma$ is the stardard deviation.\n",
        "\n",
        "The steps above ensure that our images will have zero mean and one variance. These preprocessing\n",
        "steps are also known as [Data Normalization or Feature Scaling](https://en.wikipedia.org/wiki/Feature_scaling)."
      ]
    },
    {
      "cell_type": "markdown",
      "metadata": {
        "id": "N6LxHJm3zmmK",
        "colab_type": "text"
      },
      "source": [
        "## 1. PCA\n",
        "\n",
        "Now we will implement PCA. Before we do that, let's pause for a moment and\n",
        "think about the steps for performing PCA. Assume that we are performing PCA on\n",
        "some dataset $\\boldsymbol X$ for $M$ principal components. \n",
        "We then need to perform the following steps, which we break into parts:\n",
        "\n",
        "1. Data normalization (`normalize`).\n",
        "2. Find eigenvalues and corresponding eigenvectors for the covariance matrix $S$.\n",
        "   Sort by the largest eigenvalues and the corresponding eigenvectors (`eig`).\n",
        "\n",
        "After these steps, we can then compute the projection and reconstruction of the data onto the spaced spanned by the top $n$ eigenvectors."
      ]
    },
    {
      "cell_type": "code",
      "metadata": {
        "scrolled": true,
        "id": "kjsWnYHxzmmL",
        "colab_type": "code",
        "colab": {}
      },
      "source": [
        "## TODO 1~4: EDIT THESE FUNCTIONS\n",
        "\n",
        "def normalize(X):\n",
        "    \"\"\"Normalize the given dataset X\n",
        "    Args:\n",
        "        X: ndarray, dataset\n",
        "    \n",
        "    Returns:\n",
        "        (Xbar, mean, std): tuple of ndarray, Xbar is the normalized dataset\n",
        "        with mean 0 and standard deviation 1; mean and std are the \n",
        "        mean and standard deviation respectively.\n",
        "    \n",
        "    Note:\n",
        "        You will encounter dimensions where the standard deviation is\n",
        "        zero, for those when you do normalization the normalized data\n",
        "        will be NaN. Handle this by setting using `std = 1` for those \n",
        "        dimensions when doing normalization.\n",
        "    \"\"\"\n",
        "    \n",
        "    mean = np.mean(X, axis = 0) # mean of given X, when axis = 0\n",
        "    std1 = np.std(X, axis = 0)\n",
        "    std2= np.where(std1 == 0, 1, std1) # make std and when its components = 0, modifiy it as 1\n",
        "    Xbar = (X - mean)/std2 # normalization\n",
        "\n",
        "    return (Xbar, mean, std2) # <-- EDIT THIS to return Xbar, mean, std\n",
        "\n",
        "\n",
        "    \n",
        "def eig(S):\n",
        "    \"\"\"Compute the eigenvalues and corresponding eigenvectors \n",
        "        for the covariance matrix S.\n",
        "    Args:\n",
        "        S: ndarray, covariance matrix\n",
        "    \n",
        "    Returns:\n",
        "        (eigvals, eigvecs): ndarray, the eigenvalues and eigenvectors\n",
        "\n",
        "    Note:\n",
        "        the eigenvals and eigenvecs should be sorted in descending\n",
        "        order of the eigen values\n",
        "    \"\"\"\n",
        "    \n",
        "    eigvals, eigvecs  = np.linalg.eig(S) # eigenvalues and eigenvectors of given S\n",
        "\n",
        "    return (eigvals, eigvecs) # <-- EDIT THIS to return the eigenvalues and corresponding eigenvectors\n",
        "\n",
        "def projection_matrix(B):\n",
        "    \"\"\"Compute the projection matrix onto the space spanned by `B`\n",
        "    Args:\n",
        "        B: ndarray of dimension (D, M), the basis for the subspace\n",
        "    \n",
        "    Returns:\n",
        "        P: the projection matrix\n",
        "    \"\"\"\n",
        "\n",
        "    projB = B@(np.linalg.inv(B.T@B))@B.T # projection matrix\n",
        "\n",
        "    return projB # <-- EDIT THIS to compute the projection matrix\n",
        "\n",
        "def PCA(X, num_components):\n",
        "    \"\"\"\n",
        "    Args:\n",
        "        X: ndarray of size (N, D), where D is the dimension of the data,\n",
        "           and N is the number of datapoints\n",
        "        num_components: the number of principal components to use.\n",
        "    Returns:\n",
        "        X_reconstruct: ndarray of the reconstruction\n",
        "        of X from the first `num_components` principal components.\n",
        "    \"\"\"\n",
        "    # your solution should take advantage of the functions you have implemented above.\n",
        "\n",
        "    (N, D) = X.shape\n",
        "    S = (X.T@X)/N # covariance matrix\n",
        "    ret = X@projection_matrix(eig(S)[1][:, 0:num_components])\n",
        "\n",
        "    return ret # <-- EDIT THIS to return the reconstruction of X\n"
      ],
      "execution_count": 0,
      "outputs": []
    },
    {
      "cell_type": "code",
      "metadata": {
        "id": "_vzAOQPAzmmO",
        "colab_type": "code",
        "colab": {}
      },
      "source": [
        "## Some preprocessing of the data\n",
        "NUM_DATAPOINTS = 1000\n",
        "X = (images.reshape(-1, 28 * 28)[:NUM_DATAPOINTS]) / 255.\n",
        "Xbar, mu, std = normalize(X)"
      ],
      "execution_count": 0,
      "outputs": []
    },
    {
      "cell_type": "code",
      "metadata": {
        "id": "BwUAZyCGzmmQ",
        "colab_type": "code",
        "colab": {
          "base_uri": "https://localhost:8080/",
          "height": 351
        },
        "outputId": "9a85d25a-dad6-4462-9cbf-e75e4fad1df2"
      },
      "source": [
        "for num_component in range(1, 20):\n",
        "    from sklearn.decomposition import PCA as SKPCA\n",
        "    # We can compute a standard solution given by scikit-learn's implementation of PCA\n",
        "    pca = SKPCA(n_components=num_component, svd_solver='full')\n",
        "    sklearn_reconst = pca.inverse_transform(pca.fit_transform(Xbar))\n",
        "    reconst = PCA(Xbar, num_component)\n",
        "    np.testing.assert_almost_equal(reconst, sklearn_reconst) # <-- If your implementaion is wrong, this line gives you error message. Fix your above implementation\n",
        "    print(np.square(reconst - sklearn_reconst).sum()) # <-- If this value is very small (1e-25~), then you maybe correct"
      ],
      "execution_count": 207,
      "outputs": [
        {
          "output_type": "stream",
          "text": [
            "(2.400763733828946e-25+0j)\n",
            "(6.643413859269463e-25+0j)\n",
            "(8.903671242312248e-25+0j)\n",
            "(2.2041456644237303e-24+0j)\n",
            "(1.20946788958604e-24+0j)\n",
            "(1.6362811602087048e-24+0j)\n",
            "(3.2760487592113962e-24+0j)\n",
            "(1.8858367572728483e-24+0j)\n",
            "(2.283156041960972e-23+0j)\n",
            "(3.0175695312611966e-23+0j)\n",
            "(8.547307966772752e-22+0j)\n",
            "(5.610731288834671e-23+0j)\n",
            "(5.668341760071311e-23+0j)\n",
            "(6.898428172363149e-24+0j)\n",
            "(6.093371367235622e-24+0j)\n",
            "(8.65989209796294e-23+0j)\n",
            "(3.275281178186907e-23+0j)\n",
            "(9.966875062948206e-24+0j)\n",
            "(7.376272224788972e-24+0j)\n"
          ],
          "name": "stdout"
        }
      ]
    },
    {
      "cell_type": "markdown",
      "metadata": {
        "id": "hr9n_OxHzmmT",
        "colab_type": "text"
      },
      "source": [
        "The greater number of principal components we use, the smaller will our reconstruction\n",
        "error be. Now, let's answer the following question: \n",
        "\n",
        "\n",
        "> How many principal components do we need\n",
        "> in order to reach a Mean Squared Error (MSE) of less than $100$ for our dataset?\n",
        "\n",
        "Ans: By the graph below, number components should be larger than 96.\n",
        "\n"
      ]
    },
    {
      "cell_type": "markdown",
      "metadata": {
        "id": "yur_xuUDzmmU",
        "colab_type": "text"
      },
      "source": [
        "We have provided a function in the next cell that computes the mean squared error (MSE), which will be useful for answering the question above."
      ]
    },
    {
      "cell_type": "code",
      "metadata": {
        "id": "CiYHUb8rzmmU",
        "colab_type": "code",
        "colab": {}
      },
      "source": [
        "def mse(predict, actual):\n",
        "    \"\"\"Helper function for computing the mean squared error (MSE)\"\"\"\n",
        "    return np.square(predict - actual).sum(axis=1).mean()"
      ],
      "execution_count": 0,
      "outputs": []
    },
    {
      "cell_type": "code",
      "metadata": {
        "id": "bzZ1dEFCzmmX",
        "colab_type": "code",
        "colab": {}
      },
      "source": [
        "loss = []\n",
        "reconstructions = []\n",
        "# iterate over different numbers of principal components, and compute the MSE\n",
        "for num_component in range(1, 100):\n",
        "    reconst = PCA(Xbar, num_component)\n",
        "    error = mse(reconst, Xbar)\n",
        "    reconstructions.append(reconst)\n",
        "    # print('n = {:d}, reconstruction_error = {:f}'.format(num_component, error))\n",
        "    loss.append((num_component, error))\n",
        "\n",
        "reconstructions = np.asarray(reconstructions)\n",
        "reconstructions = reconstructions * std + mu # \"unnormalize\" the reconstructed image\n",
        "loss = np.asarray(loss)"
      ],
      "execution_count": 0,
      "outputs": []
    },
    {
      "cell_type": "code",
      "metadata": {
        "id": "QPJh0EgxzmmZ",
        "colab_type": "code",
        "colab": {
          "base_uri": "https://localhost:8080/",
          "height": 195
        },
        "outputId": "76015ce1-5c2e-47be-8324-8d1d2b3f8897"
      },
      "source": [
        "import pandas as pd\n",
        "# create a table showing the number of principal components and MSE\n",
        "pd.DataFrame(loss).head()"
      ],
      "execution_count": 211,
      "outputs": [
        {
          "output_type": "execute_result",
          "data": {
            "text/html": [
              "<div>\n",
              "<style scoped>\n",
              "    .dataframe tbody tr th:only-of-type {\n",
              "        vertical-align: middle;\n",
              "    }\n",
              "\n",
              "    .dataframe tbody tr th {\n",
              "        vertical-align: top;\n",
              "    }\n",
              "\n",
              "    .dataframe thead th {\n",
              "        text-align: right;\n",
              "    }\n",
              "</style>\n",
              "<table border=\"1\" class=\"dataframe\">\n",
              "  <thead>\n",
              "    <tr style=\"text-align: right;\">\n",
              "      <th></th>\n",
              "      <th>0</th>\n",
              "      <th>1</th>\n",
              "    </tr>\n",
              "  </thead>\n",
              "  <tbody>\n",
              "    <tr>\n",
              "      <th>0</th>\n",
              "      <td>1.000000+0.000000j</td>\n",
              "      <td>569.447737+0.000000j</td>\n",
              "    </tr>\n",
              "    <tr>\n",
              "      <th>1</th>\n",
              "      <td>2.000000+0.000000j</td>\n",
              "      <td>536.059608+0.000000j</td>\n",
              "    </tr>\n",
              "    <tr>\n",
              "      <th>2</th>\n",
              "      <td>3.000000+0.000000j</td>\n",
              "      <td>508.250286+0.000000j</td>\n",
              "    </tr>\n",
              "    <tr>\n",
              "      <th>3</th>\n",
              "      <td>4.000000+0.000000j</td>\n",
              "      <td>487.018907+0.000000j</td>\n",
              "    </tr>\n",
              "    <tr>\n",
              "      <th>4</th>\n",
              "      <td>5.000000+0.000000j</td>\n",
              "      <td>467.571610+0.000000j</td>\n",
              "    </tr>\n",
              "  </tbody>\n",
              "</table>\n",
              "</div>"
            ],
            "text/plain": [
              "                    0                     1\n",
              "0  1.000000+0.000000j  569.447737+0.000000j\n",
              "1  2.000000+0.000000j  536.059608+0.000000j\n",
              "2  3.000000+0.000000j  508.250286+0.000000j\n",
              "3  4.000000+0.000000j  487.018907+0.000000j\n",
              "4  5.000000+0.000000j  467.571610+0.000000j"
            ]
          },
          "metadata": {
            "tags": []
          },
          "execution_count": 211
        }
      ]
    },
    {
      "cell_type": "markdown",
      "metadata": {
        "id": "er10Ztqjzmmc",
        "colab_type": "text"
      },
      "source": [
        "We can also put these numbers into perspective by plotting them."
      ]
    },
    {
      "cell_type": "code",
      "metadata": {
        "id": "DY5V4toDzmmc",
        "colab_type": "code",
        "colab": {
          "base_uri": "https://localhost:8080/",
          "height": 331
        },
        "outputId": "8fd5adf4-6676-4a06-9c36-234e05e29426"
      },
      "source": [
        "fig, ax = plt.subplots()\n",
        "ax.plot(loss[:,0], loss[:,1]);\n",
        "ax.axhline(100, linestyle='--', color='r', linewidth=2)\n",
        "ax.xaxis.set_ticks(np.arange(1, 100, 5));\n",
        "ax.set(xlabel='num_components', ylabel='MSE', title='MSE vs number of principal components');"
      ],
      "execution_count": 212,
      "outputs": [
        {
          "output_type": "stream",
          "text": [
            "/usr/local/lib/python3.6/dist-packages/numpy/core/_asarray.py:85: ComplexWarning: Casting complex values to real discards the imaginary part\n",
            "  return array(a, dtype, copy=False, order=order)\n"
          ],
          "name": "stderr"
        },
        {
          "output_type": "display_data",
          "data": {
            "image/png": "[encoded data removed]",
            "text/plain": [
              "<Figure size 432x288 with 1 Axes>"
            ]
          },
          "metadata": {
            "tags": []
          }
        }
      ]
    },
    {
      "cell_type": "markdown",
      "metadata": {
        "id": "86coE469zmmf",
        "colab_type": "text"
      },
      "source": [
        "But _numbers dont't tell us everything_! Just what does it mean _qualitatively_ for the loss to decrease from around\n",
        "$450.0$ to less than $100.0$?\n",
        "\n",
        "Let's find out! In the next cell, we draw the the leftmost image is the original dight. Then we show the reconstruction of the image on the right, in descending number of principal components used."
      ]
    },
    {
      "cell_type": "code",
      "metadata": {
        "scrolled": true,
        "id": "H_ynV9S-zmmg",
        "colab_type": "code",
        "colab": {
          "base_uri": "https://localhost:8080/",
          "height": 203,
          "referenced_widgets": [
            "9f0a86216a094d979d792c47d7c84584",
            "7ea33403af3e4279a4d628a4cb792e55",
            "529ad48844ad4c0293df284dc298fd8d",
            "8a816884fcdc4005b705a7c002f33d41",
            "133a71dd540e4b1aaa4219686d1e6512",
            "933a4f771550471a94bd72f2a328f666"
          ]
        },
        "outputId": "a3f110ff-e6b8-4104-9645-6a14a9d3894a"
      },
      "source": [
        "@interact(image_idx=(0, 1000))\n",
        "def show_num_components_reconst(image_idx):\n",
        "    fig, ax = plt.subplots(figsize=(20., 20.))\n",
        "    actual = X[image_idx]\n",
        "    # concatenate the actual and reconstructed images as large image before plotting it\n",
        "    x = np.concatenate([actual[np.newaxis, :], reconstructions[:, image_idx]])\n",
        "    ax.imshow(np.real(np.hstack(x.reshape(-1, 28, 28)[np.arange(10)])),\n",
        "              cmap='gray');\n",
        "    ax.axvline(28, color='orange', linewidth=2)"
      ],
      "execution_count": 213,
      "outputs": [
        {
          "output_type": "display_data",
          "data": {
            "application/vnd.jupyter.widget-view+json": {
              "model_id": "9f0a86216a094d979d792c47d7c84584",
              "version_minor": 0,
              "version_major": 2
            },
            "text/plain": [
              "interactive(children=(IntSlider(value=500, description='image_idx', max=1000), Output()), _dom_classes=('widge…"
            ]
          },
          "metadata": {
            "tags": []
          }
        }
      ]
    },
    {
      "cell_type": "markdown",
      "metadata": {
        "id": "yRJGOaf8zmmi",
        "colab_type": "text"
      },
      "source": [
        "We can also browse throught the reconstructions for other digits. Once again, `interact` becomes handy for visualing the reconstruction."
      ]
    },
    {
      "cell_type": "code",
      "metadata": {
        "scrolled": true,
        "id": "LEibm0AYzmmj",
        "colab_type": "code",
        "colab": {
          "base_uri": "https://localhost:8080/",
          "height": 203,
          "referenced_widgets": [
            "2fbd07abc67b4df297757f65136c4386",
            "238fa497f68049069f3e70621dfc7fd9",
            "456e047193394b6d8d568b2652a1b3f7",
            "396358eb443f4b469c16624041629772",
            "4ca2d99d45b74a06b7b51d5e451bd57e",
            "69571b413c2e461186503826c4420fca"
          ]
        },
        "outputId": "d454a85e-1f5c-40a8-89ee-8079eaf1d8df"
      },
      "source": [
        "@interact(i=(0, 10))\n",
        "def show_pca_digits(i=1):\n",
        "    \"\"\"Show the i th digit and its reconstruction\"\"\"\n",
        "    plt.figure(figsize=(4,4))\n",
        "    actual_sample = X[i].reshape(28,28)\n",
        "    reconst_sample = (reconst[i, :] * std + mu).reshape(28, 28)\n",
        "    plt.imshow(np.real(np.hstack([actual_sample, reconst_sample])), cmap='gray')\n",
        "    plt.show()"
      ],
      "execution_count": 214,
      "outputs": [
        {
          "output_type": "display_data",
          "data": {
            "application/vnd.jupyter.widget-view+json": {
              "model_id": "2fbd07abc67b4df297757f65136c4386",
              "version_minor": 0,
              "version_major": 2
            },
            "text/plain": [
              "interactive(children=(IntSlider(value=1, description='i', max=10), Output()), _dom_classes=('widget-interact',…"
            ]
          },
          "metadata": {
            "tags": []
          }
        }
      ]
    },
    {
      "cell_type": "markdown",
      "metadata": {
        "id": "BCUU__YHzmmm",
        "colab_type": "text"
      },
      "source": [
        "## 2. PCA for high-dimensional datasets\n",
        "\n",
        "Sometimes, the dimensionality of our dataset may be larger than the number of samples we\n",
        "have. Then it might be inefficient to perform PCA with our implementation above. Instead,\n",
        "we can implement PCA in a more efficient manner, which we call \"PCA for high dimensional data\" (PCA_high_dim).\n",
        "\n",
        "Below are the steps for performing PCA for high dimensional dataset\n",
        "1. Compute the matrix $\\boldsymbol X\\boldsymbol X^T$ (a $N$ by $N$ matrix with $N \\ll D$)\n",
        "2. Compute eigenvalues $\\lambda$s and eigenvectors $V$ for $\\boldsymbol X\\boldsymbol X^T$\n",
        "3. Compute the eigenvectors for the original covariance matrix as $\\boldsymbol X^T\\boldsymbol V$. Choose the eigenvectors associated with the M largest eigenvalues to be the basis of the principal subspace $U$.\n",
        "4. Compute the orthogonal projection of the data onto the subspace spanned by columns of $\\boldsymbol U$."
      ]
    },
    {
      "cell_type": "code",
      "metadata": {
        "id": "K6zgwIbHzmmm",
        "colab_type": "code",
        "colab": {}
      },
      "source": [
        "### PCA for high-dimensional datasets\n",
        "## TODO 5: EDIT THIS FUNCTION\n",
        "def PCA_high_dim(X, n_components):\n",
        "    \"\"\"Compute PCA for small sample size but high-dimensional features. \n",
        "    Args:\n",
        "        X: ndarray of size (N, D), where D is the dimension of the sample,\n",
        "           and N is the number of samples\n",
        "        num_components: the number of principal components to use.\n",
        "    Returns:\n",
        "        X_reconstruct: (N, D) ndarray. the reconstruction\n",
        "        of X from the first `num_components` pricipal components.\n",
        "    \"\"\"\n",
        "\n",
        "    (N, D) = X.shape\n",
        "    S = (X@(X.T))/N\n",
        "    (eigvals, V) = eig(S)\n",
        "    eigvec = X.T@V[:, 0:n_components]\n",
        "    ret = X@projection_matrix(eigvec)\n",
        "\n",
        "    return ret # <-- EDIT THIS to return the reconstruction of X"
      ],
      "execution_count": 0,
      "outputs": []
    },
    {
      "cell_type": "markdown",
      "metadata": {
        "id": "oIHPzjZXzmmp",
        "colab_type": "text"
      },
      "source": [
        "Given the same dataset, `PCA_high_dim` and `PCA` should give the same output. \n",
        "Assuming we have implemented `PCA`, correctly, we can then use `PCA` to test the correctness\n",
        "of `PCA_high_dim`. Given the same dataset, `PCA` and `PCA_high_dim` should give identical results.\n",
        "\n",
        "We can use this __invariant__\n",
        "to test our implementation of PCA_high_dim, assuming that we have correctly implemented `PCA`."
      ]
    },
    {
      "cell_type": "code",
      "metadata": {
        "id": "V1TgjHQTzmmq",
        "colab_type": "code",
        "colab": {}
      },
      "source": [
        "np.testing.assert_almost_equal(PCA(Xbar, 2), PCA_high_dim(Xbar, 2))"
      ],
      "execution_count": 0,
      "outputs": []
    },
    {
      "cell_type": "markdown",
      "metadata": {
        "id": "-UVV7Hxnzmms",
        "colab_type": "text"
      },
      "source": [
        "Now let's compare the running time between `PCA` and `PCA_high_dim`.\n",
        "\n",
        "__Tips__ for running benchmarks or computationally expensive code:\n",
        "\n",
        "When you have some computation that takes up a non-negligible amount of time. Try separating\n",
        "the code that produces output from the code that analyzes the result (e.g. plot the results, compute statistics of the results). In this way, you don't have to recompute when you want to produce more analysis."
      ]
    },
    {
      "cell_type": "markdown",
      "metadata": {
        "id": "IxPZ1hBMzmmt",
        "colab_type": "text"
      },
      "source": [
        "The next cell includes a function that records the time taken for executing a function `f` by repeating it for `repeat` number of times. You do not need to modify the function but you can use it to compare the running time for functions which you are interested in knowing the running time."
      ]
    },
    {
      "cell_type": "code",
      "metadata": {
        "id": "Ru7jqo3Qzmmu",
        "colab_type": "code",
        "colab": {}
      },
      "source": [
        "def time(f, repeat=10):\n",
        "    times = []\n",
        "    for _ in range(repeat):\n",
        "        start = timeit.default_timer()\n",
        "        f()\n",
        "        stop = timeit.default_timer()\n",
        "        times.append(stop-start)\n",
        "    return np.mean(times), np.std(times)"
      ],
      "execution_count": 0,
      "outputs": []
    },
    {
      "cell_type": "markdown",
      "metadata": {
        "id": "zkCRzzVnzmmz",
        "colab_type": "text"
      },
      "source": [
        "We first benchmark the time taken to compute $\\boldsymbol X^T\\boldsymbol X$ and $\\boldsymbol X\\boldsymbol X^T$. Jupyter's magic command `%time` is quite handy."
      ]
    },
    {
      "cell_type": "markdown",
      "metadata": {
        "id": "kAPCp6Dqzmm0",
        "colab_type": "text"
      },
      "source": [
        "The next cell finds the running time for computing $\\boldsymbol X^T\\boldsymbol X$ and $\\boldsymbol X\\boldsymbol X^T$ for different dimensions of $\\boldsymbol X$."
      ]
    },
    {
      "cell_type": "code",
      "metadata": {
        "id": "6OVPXiRnzmm2",
        "colab_type": "code",
        "colab": {}
      },
      "source": [
        "times_mm0 = []\n",
        "times_mm1 = []\n",
        "\n",
        "# iterate over datasets of different size\n",
        "for datasetsize in np.arange(4, 784, step=20):\n",
        "    XX = Xbar[:datasetsize] # select the first `datasetsize` samples in the dataset\n",
        "    # record the running time for computing X.T @ X\n",
        "    mu, sigma = time(lambda : XX.T @ XX)\n",
        "    times_mm0.append((datasetsize, mu, sigma))\n",
        "    \n",
        "    # record the running time for computing X @ X.T\n",
        "    mu, sigma = time(lambda : XX @ XX.T)\n",
        "    times_mm1.append((datasetsize, mu, sigma))\n",
        "    \n",
        "times_mm0 = np.asarray(times_mm0)\n",
        "times_mm1 = np.asarray(times_mm1)"
      ],
      "execution_count": 0,
      "outputs": []
    },
    {
      "cell_type": "markdown",
      "metadata": {
        "id": "Sq82L1nSzmm4",
        "colab_type": "text"
      },
      "source": [
        "Having recorded the running time for computing `X @ X.T` and `X @ X.T`, we can plot them."
      ]
    },
    {
      "cell_type": "code",
      "metadata": {
        "id": "PQK1Vc26zmm5",
        "colab_type": "code",
        "colab": {
          "base_uri": "https://localhost:8080/",
          "height": 281
        },
        "outputId": "2340433b-2cfb-4fab-b6cb-1ae42d0b74a3"
      },
      "source": [
        "fig, ax = plt.subplots()\n",
        "ax.set(xlabel='size of dataset', ylabel='running time')\n",
        "bar = ax.errorbar(times_mm0[:, 0], times_mm0[:, 1], times_mm0[:, 2], label=\"$X^T X$ (PCA)\", linewidth=2)\n",
        "ax.errorbar(times_mm1[:, 0], times_mm1[:, 1], times_mm1[:, 2], label=\"$X X^T$ (PCA_high_dim)\", linewidth=2)\n",
        "ax.legend();"
      ],
      "execution_count": 219,
      "outputs": [
        {
          "output_type": "display_data",
          "data": {
            "image/png": "[encoded data removed]",
            "text/plain": [
              "<Figure size 432x288 with 1 Axes>"
            ]
          },
          "metadata": {
            "tags": []
          }
        }
      ]
    },
    {
      "cell_type": "markdown",
      "metadata": {
        "id": "3REINqdXzmm7",
        "colab_type": "text"
      },
      "source": [
        "Alternatively, use the `time` magic command for benchmarking functions."
      ]
    },
    {
      "cell_type": "code",
      "metadata": {
        "id": "4a5ZA8N5zmm8",
        "colab_type": "code",
        "colab": {
          "base_uri": "https://localhost:8080/",
          "height": 87
        },
        "outputId": "8bb6cfd5-ba1f-4c42-e77b-19d44632c846"
      },
      "source": [
        "%time Xbar.T @ Xbar\n",
        "%time Xbar @ Xbar.T\n",
        "pass # Put this here so that our output does not show result of computing `Xbar @ Xbar.T`"
      ],
      "execution_count": 220,
      "outputs": [
        {
          "output_type": "stream",
          "text": [
            "CPU times: user 41.3 ms, sys: 4.05 ms, total: 45.3 ms\n",
            "Wall time: 33.8 ms\n",
            "CPU times: user 54.8 ms, sys: 9.55 ms, total: 64.4 ms\n",
            "Wall time: 32.6 ms\n"
          ],
          "name": "stdout"
        }
      ]
    },
    {
      "cell_type": "markdown",
      "metadata": {
        "id": "-KuHMOmKzmm-",
        "colab_type": "text"
      },
      "source": [
        "Next we benchmark PCA, PCA_high_dim."
      ]
    },
    {
      "cell_type": "code",
      "metadata": {
        "id": "av_bJlLBzmm_",
        "colab_type": "code",
        "colab": {}
      },
      "source": [
        "times0 = []\n",
        "times1 = []\n",
        "\n",
        "# iterate over datasets of different size\n",
        "for datasetsize in np.arange(4, 784, step=100):\n",
        "    XX = Xbar[:datasetsize]\n",
        "    npc = 2\n",
        "    mu, sigma = time(lambda : PCA(XX, npc), repeat=10)\n",
        "    times0.append((datasetsize, mu, sigma))\n",
        "    \n",
        "    mu, sigma = time(lambda : PCA_high_dim(XX, npc), repeat=10)\n",
        "    times1.append((datasetsize, mu, sigma))\n",
        "    \n",
        "times0 = np.asarray(times0)\n",
        "times1 = np.asarray(times1)"
      ],
      "execution_count": 0,
      "outputs": []
    },
    {
      "cell_type": "markdown",
      "metadata": {
        "id": "VN7_uqPKzmnB",
        "colab_type": "text"
      },
      "source": [
        "Let's plot the running time. Spend some time and think about what this plot means. We mentioned in lectures that PCA_high_dim are advantageous when\n",
        "we have dataset size $N$ < data dimension $M$. Although our plot does not for the two running time does not intersect exactly at $N = M$, it does show the trend."
      ]
    },
    {
      "cell_type": "code",
      "metadata": {
        "scrolled": true,
        "id": "KQZ0bROfzmnC",
        "colab_type": "code",
        "colab": {
          "base_uri": "https://localhost:8080/",
          "height": 279
        },
        "outputId": "f436acc5-e18c-465f-ea50-82f42d103e2c"
      },
      "source": [
        "fig, ax = plt.subplots()\n",
        "ax.set(xlabel='number of datapoints', ylabel='run time')\n",
        "ax.errorbar(times0[:, 0], times0[:, 1], times0[:, 2], label=\"PCA\", linewidth=2)\n",
        "ax.errorbar(times1[:, 0], times1[:, 1], times1[:, 2], label=\"PCA_high_dim\", linewidth=2)\n",
        "ax.legend();"
      ],
      "execution_count": 222,
      "outputs": [
        {
          "output_type": "display_data",
          "data": {
            "image/png": "[encoded data removed]",
            "text/plain": [
              "<Figure size 432x288 with 1 Axes>"
            ]
          },
          "metadata": {
            "tags": []
          }
        }
      ]
    },
    {
      "cell_type": "markdown",
      "metadata": {
        "id": "nSeQXg1_zmnE",
        "colab_type": "text"
      },
      "source": [
        "Again, with the magic command `time`."
      ]
    },
    {
      "cell_type": "code",
      "metadata": {
        "id": "-n8FT85hzmnF",
        "colab_type": "code",
        "colab": {
          "base_uri": "https://localhost:8080/",
          "height": 87
        },
        "outputId": "f5863932-4fd7-402b-cb7d-1a15fa1d71b4"
      },
      "source": [
        "%time PCA(Xbar, 2)\n",
        "%time PCA_high_dim(Xbar, 2)\n",
        "pass"
      ],
      "execution_count": 223,
      "outputs": [
        {
          "output_type": "stream",
          "text": [
            "CPU times: user 1.01 s, sys: 300 ms, total: 1.31 s\n",
            "Wall time: 668 ms\n",
            "CPU times: user 2.21 s, sys: 661 ms, total: 2.87 s\n",
            "Wall time: 1.44 s\n"
          ],
          "name": "stdout"
        }
      ]
    },
    {
      "cell_type": "markdown",
      "metadata": {
        "id": "OXQTyA2K2RES",
        "colab_type": "text"
      },
      "source": [
        "## 3. PCA for dimension reduction\n",
        "\n",
        "Sometimes, PCA is used for dimensionality reduction for the visualization of high dimensional data."
      ]
    },
    {
      "cell_type": "code",
      "metadata": {
        "id": "N0uujaV62S4X",
        "colab_type": "code",
        "colab": {
          "base_uri": "https://localhost:8080/",
          "height": 34
        },
        "outputId": "54f13c46-df9c-45d6-d072-48cea2f47131"
      },
      "source": [
        "pca.n_components = 2\n",
        "pca_data = pca.fit_transform(Xbar)\n",
        "import seaborn as sn\n",
        "# pca_reduced will contain the 2-d projects of simple data\n",
        "print(\"shape of pca_reduced.shape = \", pca_data.shape)"
      ],
      "execution_count": 224,
      "outputs": [
        {
          "output_type": "stream",
          "text": [
            "shape of pca_reduced.shape =  (1000, 2)\n"
          ],
          "name": "stdout"
        }
      ]
    },
    {
      "cell_type": "code",
      "metadata": {
        "id": "U_wnVxji2UoM",
        "colab_type": "code",
        "colab": {
          "base_uri": "https://localhost:8080/",
          "height": 476
        },
        "outputId": "da8a246f-e737-4b63-eec7-26033862c020"
      },
      "source": [
        "pca_data = np.vstack((pca_data.T, labels[:1000])).T\n",
        "\n",
        "# creating a new data fram which help us in ploting the result data\n",
        "pca_df = pd.DataFrame(data=pca_data, columns=(\"1st_principal\", \"2nd_principal\", \"label\"))\n",
        "sn.FacetGrid(pca_df, hue=\"label\", size=6).map(plt.scatter, '1st_principal', '2nd_principal').add_legend()\n",
        "plt.show()"
      ],
      "execution_count": 225,
      "outputs": [
        {
          "output_type": "stream",
          "text": [
            "/usr/local/lib/python3.6/dist-packages/seaborn/axisgrid.py:230: UserWarning: The `size` paramter has been renamed to `height`; please update your code.\n",
            "  warnings.warn(msg, UserWarning)\n"
          ],
          "name": "stderr"
        },
        {
          "output_type": "display_data",
          "data": {
            "image/png": "[encoded data removed]",
            "text/plain": [
              "<Figure size 474.375x432 with 1 Axes>"
            ]
          },
          "metadata": {
            "tags": []
          }
        }
      ]
    },
    {
      "cell_type": "markdown",
      "metadata": {
        "id": "hAYpz-Mc2XY5",
        "colab_type": "text"
      },
      "source": [
        "There is a lot of overlapping among classes means PCA not very good for the high dimensional dataset. Very few classes can be separated but most of them are mixed. PCA is mainly used for dimensionality reduction, not for visualization. To visualize high dimension data, we mostly use T-SNE.\n",
        "For more information about t-sne please refer to: https://medium.com/engineer-quant/t-sne-the-bits-that-no-one-learns-b5ce959ea1c2"
      ]
    },
    {
      "cell_type": "code",
      "metadata": {
        "id": "Ey11FyBF2Yft",
        "colab_type": "code",
        "colab": {
          "base_uri": "https://localhost:8080/",
          "height": 476
        },
        "outputId": "881b1419-fdf1-4b49-c9ea-86398c5952a8"
      },
      "source": [
        "from sklearn.manifold import TSNE\n",
        "\n",
        "model = TSNE(n_components=2, random_state=0)\n",
        "# configuring the parameteres\n",
        "# the number of components = 2\n",
        "# default perplexity = 30\n",
        "# default learning rate = 200\n",
        "# default Maximum number of iterations for the optimization = 1000\n",
        "\n",
        "tsne_data = model.fit_transform(Xbar)\n",
        "\n",
        "\n",
        "# creating a new data frame which help us in ploting the result data\n",
        "tsne_data = np.vstack((tsne_data.T, labels[:1000])).T\n",
        "tsne_df = pd.DataFrame(data=tsne_data, columns=(\"Dim_1\", \"Dim_2\", \"label\"))\n",
        "\n",
        "# Ploting the result of tsne\n",
        "sn.FacetGrid(tsne_df, hue=\"label\", size=6).map(plt.scatter, 'Dim_1', 'Dim_2').add_legend()\n",
        "plt.show()"
      ],
      "execution_count": 226,
      "outputs": [
        {
          "output_type": "stream",
          "text": [
            "/usr/local/lib/python3.6/dist-packages/seaborn/axisgrid.py:230: UserWarning: The `size` paramter has been renamed to `height`; please update your code.\n",
            "  warnings.warn(msg, UserWarning)\n"
          ],
          "name": "stderr"
        },
        {
          "output_type": "display_data",
          "data": {
            "image/png": "[encoded data removed]",
            "text/plain": [
              "<Figure size 474.375x432 with 1 Axes>"
            ]
          },
          "metadata": {
            "tags": []
          }
        }
      ]
    },
    {
      "cell_type": "markdown",
      "metadata": {
        "id": "xgtUFS_G27q7",
        "colab_type": "text"
      },
      "source": [
        "As shown in the figure, the distribution of MNIST data is clearly distinguished by their label."
      ]
    },
    {
      "cell_type": "markdown",
      "metadata": {
        "id": "HANJ77c-3l6b",
        "colab_type": "text"
      },
      "source": [
        "## 4. Exercise\n",
        "> Using the iris dataset which consists of 3 different types of irises’ (Setosa, Versicolour, and Virginica) petal and sepal length, stored in a 150x4 numpy.ndarray, let's analyze the dataset using PCA. \n",
        "> You need to capture 2d-projected figures with **your own comments (short analysis)**.\n",
        "> You can use the functions implemented above or use sklearn.\n"
      ]
    },
    {
      "cell_type": "code",
      "metadata": {
        "id": "r4a8VKl-u6l8",
        "colab_type": "code",
        "colab": {}
      },
      "source": [
        "from sklearn.datasets import load_iris\n",
        "data = load_iris()"
      ],
      "execution_count": 0,
      "outputs": []
    },
    {
      "cell_type": "code",
      "metadata": {
        "id": "Q2Kwf9AvtDLX",
        "colab_type": "code",
        "colab": {
          "base_uri": "https://localhost:8080/",
          "height": 476
        },
        "outputId": "929ae706-b03b-489e-9329-b01695f88881"
      },
      "source": [
        "# IMPLEMENT YOUR CODE !\n",
        "pca.n_components = 2 # let the number components are 2\n",
        "pca_data = pca.fit_transform(data.data)\n",
        "\n",
        "pca_data = np.vstack((pca_data.T, data.target)).T # stacking the data and target, and transpose it\n",
        "\n",
        "# creating a new data fram which help us in ploting the result data\n",
        "pca_df = pd.DataFrame(data = pca_data, columns = (\"1st_principal\", \"2nd_principal\", \"label\"))\n",
        "sn.FacetGrid(pca_df, hue = \"label\", size = 6).map(plt.scatter, '1st_principal', '2nd_principal').add_legend()\n",
        "plt.show()"
      ],
      "execution_count": 229,
      "outputs": [
        {
          "output_type": "stream",
          "text": [
            "/usr/local/lib/python3.6/dist-packages/seaborn/axisgrid.py:230: UserWarning: The `size` paramter has been renamed to `height`; please update your code.\n",
            "  warnings.warn(msg, UserWarning)\n"
          ],
          "name": "stderr"
        },
        {
          "output_type": "display_data",
          "data": {
            "image/png": "[encoded data removed]",
            "text/plain": [
              "<Figure size 483.875x432 with 1 Axes>"
            ]
          },
          "metadata": {
            "tags": []
          }
        }
      ]
    },
    {
      "cell_type": "code",
      "metadata": {
        "id": "cZjWgpbS4ADE",
        "colab_type": "code",
        "colab": {}
      },
      "source": [
        ""
      ],
      "execution_count": 0,
      "outputs": []
    }
  ]
}